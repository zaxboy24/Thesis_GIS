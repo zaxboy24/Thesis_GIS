{
 "cells": [
  {
   "cell_type": "code",
   "execution_count": 1,
   "metadata": {},
   "outputs": [],
   "source": [
    "import folium\n",
    "import pandas as pd\n",
    "import geopandas as gpd\n",
    "import matplotlib.pyplot as pl\n",
    "from shapely.geometry import Point\n",
    "import os\n",
    "import psycopg2\n",
    "import sqlite3\n",
    "from shapely.wkt import loads\n",
    "from shapely.geometry import Point, LineString, Polygon\n",
    "import os\n",
    "\n",
    "os.environ['SPATIALITE_SECURITY'] = 'relaxed'"
   ]
  },
  {
   "cell_type": "code",
   "execution_count": 2,
   "metadata": {},
   "outputs": [],
   "source": [
    "conn = sqlite3.connect('gis.db')\n",
    "conn.enable_load_extension(True)\n",
    "conn.load_extension('mod_spatialite')"
   ]
  },
  {
   "cell_type": "code",
   "execution_count": 3,
   "metadata": {},
   "outputs": [
    {
     "data": {
      "text/plain": [
       "<sqlite3.Cursor at 0x7f0fe0485b90>"
      ]
     },
     "execution_count": 3,
     "metadata": {},
     "output_type": "execute_result"
    }
   ],
   "source": [
    "conn.execute('''\n",
    "SELECT ImportSHP('gadm36_PHL_shp/gadm36_PHL_2', 'gadm', 'utf-8', 4326)\n",
    "''')"
   ]
  },
  {
   "cell_type": "code",
   "execution_count": 4,
   "metadata": {},
   "outputs": [
    {
     "data": {
      "text/html": [
       "<div>\n",
       "<style scoped>\n",
       "    .dataframe tbody tr th:only-of-type {\n",
       "        vertical-align: middle;\n",
       "    }\n",
       "\n",
       "    .dataframe tbody tr th {\n",
       "        vertical-align: top;\n",
       "    }\n",
       "\n",
       "    .dataframe thead th {\n",
       "        text-align: right;\n",
       "    }\n",
       "</style>\n",
       "<table border=\"1\" class=\"dataframe\">\n",
       "  <thead>\n",
       "    <tr style=\"text-align: right;\">\n",
       "      <th></th>\n",
       "      <th>Province</th>\n",
       "      <th>City</th>\n",
       "      <th>geometry</th>\n",
       "    </tr>\n",
       "  </thead>\n",
       "  <tbody>\n",
       "    <tr>\n",
       "      <th>793</th>\n",
       "      <td>Lanao del Norte</td>\n",
       "      <td>Iligan City</td>\n",
       "      <td>POLYGON ((124.49559784 8.13796997, 124.4871521...</td>\n",
       "    </tr>\n",
       "  </tbody>\n",
       "</table>\n",
       "</div>"
      ],
      "text/plain": [
       "            Province         City  \\\n",
       "793  Lanao del Norte  Iligan City   \n",
       "\n",
       "                                              geometry  \n",
       "793  POLYGON ((124.49559784 8.13796997, 124.4871521...  "
      ]
     },
     "execution_count": 4,
     "metadata": {},
     "output_type": "execute_result"
    }
   ],
   "source": [
    "ph = gpd.read_file('gadm36_PHL_shp/gadm36_PHL_2.shp')\n",
    "ph['Province'] = ph['NAME_1']\n",
    "ph['City'] = ph['NAME_2']\n",
    "ph = ph[['Province','City','geometry']]\n",
    "ph_LDN = ph[ph['Province'] == 'Lanao del Norte']\n",
    "ph_IC = ph[ph['City'] == 'Iligan City']\n",
    "ph_IC"
   ]
  },
  {
   "cell_type": "code",
   "execution_count": 5,
   "metadata": {},
   "outputs": [],
   "source": [
    "import numpy as np\n",
    "bng = gpd.read_file('Barangays/Barangays.shp')\n",
    "bng['Province'] = bng['NAME_1']\n",
    "bng['City'] = bng['NAME_2']\n",
    "bng['Barangay'] = bng['NAME_3']\n",
    "bng = bng[['Province','City','Barangay','geometry']]\n",
    "bng_LDN = bng[bng['Province'] == 'Lanao del Norte']\n",
    "bng_IC = bng[bng['City'] == 'Iligan City']\n",
    "bng_IC = bng_IC[['Barangay','geometry']]\n",
    "bng_IC ['Population'] = np.random.randint(3000,13000,  bng_IC.shape[0])\n"
   ]
  },
  {
   "cell_type": "code",
   "execution_count": 6,
   "metadata": {},
   "outputs": [
    {
     "data": {
      "text/html": [
       "<svg height=\"50\" width=\"500\"><line x1=\"0\" y1=\"0\" x2=\"0\" y2=\"20\" style=\"stroke:#ffffff;stroke-width:3;\" /><line x1=\"1\" y1=\"0\" x2=\"1\" y2=\"20\" style=\"stroke:#ffffff;stroke-width:3;\" /><line x1=\"2\" y1=\"0\" x2=\"2\" y2=\"20\" style=\"stroke:#feffff;stroke-width:3;\" /><line x1=\"3\" y1=\"0\" x2=\"3\" y2=\"20\" style=\"stroke:#fefeff;stroke-width:3;\" /><line x1=\"4\" y1=\"0\" x2=\"4\" y2=\"20\" style=\"stroke:#fdfeff;stroke-width:3;\" /><line x1=\"5\" y1=\"0\" x2=\"5\" y2=\"20\" style=\"stroke:#fdfdff;stroke-width:3;\" /><line x1=\"6\" y1=\"0\" x2=\"6\" y2=\"20\" style=\"stroke:#fcfdff;stroke-width:3;\" /><line x1=\"7\" y1=\"0\" x2=\"7\" y2=\"20\" style=\"stroke:#fcfcff;stroke-width:3;\" /><line x1=\"8\" y1=\"0\" x2=\"8\" y2=\"20\" style=\"stroke:#fbfcff;stroke-width:3;\" /><line x1=\"9\" y1=\"0\" x2=\"9\" y2=\"20\" style=\"stroke:#fbfbff;stroke-width:3;\" /><line x1=\"10\" y1=\"0\" x2=\"10\" y2=\"20\" style=\"stroke:#fafbff;stroke-width:3;\" /><line x1=\"11\" y1=\"0\" x2=\"11\" y2=\"20\" style=\"stroke:#fafaff;stroke-width:3;\" /><line x1=\"12\" y1=\"0\" x2=\"12\" y2=\"20\" style=\"stroke:#f9faff;stroke-width:3;\" /><line x1=\"13\" y1=\"0\" x2=\"13\" y2=\"20\" style=\"stroke:#f9f9ff;stroke-width:3;\" /><line x1=\"14\" y1=\"0\" x2=\"14\" y2=\"20\" style=\"stroke:#f8f9ff;stroke-width:3;\" /><line x1=\"15\" y1=\"0\" x2=\"15\" y2=\"20\" style=\"stroke:#f8f8ff;stroke-width:3;\" /><line x1=\"16\" y1=\"0\" x2=\"16\" y2=\"20\" style=\"stroke:#f7f8ff;stroke-width:3;\" /><line x1=\"17\" y1=\"0\" x2=\"17\" y2=\"20\" style=\"stroke:#f7f7ff;stroke-width:3;\" /><line x1=\"18\" y1=\"0\" x2=\"18\" y2=\"20\" style=\"stroke:#f6f7ff;stroke-width:3;\" /><line x1=\"19\" y1=\"0\" x2=\"19\" y2=\"20\" style=\"stroke:#f6f6ff;stroke-width:3;\" /><line x1=\"20\" y1=\"0\" x2=\"20\" y2=\"20\" style=\"stroke:#f5f6ff;stroke-width:3;\" /><line x1=\"21\" y1=\"0\" x2=\"21\" y2=\"20\" style=\"stroke:#f5f5ff;stroke-width:3;\" /><line x1=\"22\" y1=\"0\" x2=\"22\" y2=\"20\" style=\"stroke:#f4f5ff;stroke-width:3;\" /><line x1=\"23\" y1=\"0\" x2=\"23\" y2=\"20\" style=\"stroke:#f4f4ff;stroke-width:3;\" /><line x1=\"24\" y1=\"0\" x2=\"24\" y2=\"20\" style=\"stroke:#f3f4ff;stroke-width:3;\" /><line x1=\"25\" y1=\"0\" x2=\"25\" y2=\"20\" style=\"stroke:#f3f3ff;stroke-width:3;\" /><line x1=\"26\" y1=\"0\" x2=\"26\" y2=\"20\" style=\"stroke:#f2f3ff;stroke-width:3;\" /><line x1=\"27\" y1=\"0\" x2=\"27\" y2=\"20\" style=\"stroke:#f2f2ff;stroke-width:3;\" /><line x1=\"28\" y1=\"0\" x2=\"28\" y2=\"20\" style=\"stroke:#f1f2ff;stroke-width:3;\" /><line x1=\"29\" y1=\"0\" x2=\"29\" y2=\"20\" style=\"stroke:#f1f1ff;stroke-width:3;\" /><line x1=\"30\" y1=\"0\" x2=\"30\" y2=\"20\" style=\"stroke:#f0f1ff;stroke-width:3;\" /><line x1=\"31\" y1=\"0\" x2=\"31\" y2=\"20\" style=\"stroke:#f0f1ff;stroke-width:3;\" /><line x1=\"32\" y1=\"0\" x2=\"32\" y2=\"20\" style=\"stroke:#eff0ff;stroke-width:3;\" /><line x1=\"33\" y1=\"0\" x2=\"33\" y2=\"20\" style=\"stroke:#eff0ff;stroke-width:3;\" /><line x1=\"34\" y1=\"0\" x2=\"34\" y2=\"20\" style=\"stroke:#eeefff;stroke-width:3;\" /><line x1=\"35\" y1=\"0\" x2=\"35\" y2=\"20\" style=\"stroke:#eeefff;stroke-width:3;\" /><line x1=\"36\" y1=\"0\" x2=\"36\" y2=\"20\" style=\"stroke:#edeeff;stroke-width:3;\" /><line x1=\"37\" y1=\"0\" x2=\"37\" y2=\"20\" style=\"stroke:#edeeff;stroke-width:3;\" /><line x1=\"38\" y1=\"0\" x2=\"38\" y2=\"20\" style=\"stroke:#ecedff;stroke-width:3;\" /><line x1=\"39\" y1=\"0\" x2=\"39\" y2=\"20\" style=\"stroke:#ebedff;stroke-width:3;\" /><line x1=\"40\" y1=\"0\" x2=\"40\" y2=\"20\" style=\"stroke:#ebecff;stroke-width:3;\" /><line x1=\"41\" y1=\"0\" x2=\"41\" y2=\"20\" style=\"stroke:#eaecff;stroke-width:3;\" /><line x1=\"42\" y1=\"0\" x2=\"42\" y2=\"20\" style=\"stroke:#eaebff;stroke-width:3;\" /><line x1=\"43\" y1=\"0\" x2=\"43\" y2=\"20\" style=\"stroke:#e9ebff;stroke-width:3;\" /><line x1=\"44\" y1=\"0\" x2=\"44\" y2=\"20\" style=\"stroke:#e9eaff;stroke-width:3;\" /><line x1=\"45\" y1=\"0\" x2=\"45\" y2=\"20\" style=\"stroke:#e8eaff;stroke-width:3;\" /><line x1=\"46\" y1=\"0\" x2=\"46\" y2=\"20\" style=\"stroke:#e8e9ff;stroke-width:3;\" /><line x1=\"47\" y1=\"0\" x2=\"47\" y2=\"20\" style=\"stroke:#e7e9ff;stroke-width:3;\" /><line x1=\"48\" y1=\"0\" x2=\"48\" y2=\"20\" style=\"stroke:#e7e8ff;stroke-width:3;\" /><line x1=\"49\" y1=\"0\" x2=\"49\" y2=\"20\" style=\"stroke:#e6e8ff;stroke-width:3;\" /><line x1=\"50\" y1=\"0\" x2=\"50\" y2=\"20\" style=\"stroke:#e6e7ff;stroke-width:3;\" /><line x1=\"51\" y1=\"0\" x2=\"51\" y2=\"20\" style=\"stroke:#e5e7ff;stroke-width:3;\" /><line x1=\"52\" y1=\"0\" x2=\"52\" y2=\"20\" style=\"stroke:#e5e6ff;stroke-width:3;\" /><line x1=\"53\" y1=\"0\" x2=\"53\" y2=\"20\" style=\"stroke:#e4e6ff;stroke-width:3;\" /><line x1=\"54\" y1=\"0\" x2=\"54\" y2=\"20\" style=\"stroke:#e4e5ff;stroke-width:3;\" /><line x1=\"55\" y1=\"0\" x2=\"55\" y2=\"20\" style=\"stroke:#e3e5ff;stroke-width:3;\" /><line x1=\"56\" y1=\"0\" x2=\"56\" y2=\"20\" style=\"stroke:#e3e4ff;stroke-width:3;\" /><line x1=\"57\" y1=\"0\" x2=\"57\" y2=\"20\" style=\"stroke:#e2e4ff;stroke-width:3;\" /><line x1=\"58\" y1=\"0\" x2=\"58\" y2=\"20\" style=\"stroke:#e2e3ff;stroke-width:3;\" /><line x1=\"59\" y1=\"0\" x2=\"59\" y2=\"20\" style=\"stroke:#e1e3ff;stroke-width:3;\" /><line x1=\"60\" y1=\"0\" x2=\"60\" y2=\"20\" style=\"stroke:#e1e3ff;stroke-width:3;\" /><line x1=\"61\" y1=\"0\" x2=\"61\" y2=\"20\" style=\"stroke:#e0e2ff;stroke-width:3;\" /><line x1=\"62\" y1=\"0\" x2=\"62\" y2=\"20\" style=\"stroke:#e0e2ff;stroke-width:3;\" /><line x1=\"63\" y1=\"0\" x2=\"63\" y2=\"20\" style=\"stroke:#dfe1ff;stroke-width:3;\" /><line x1=\"64\" y1=\"0\" x2=\"64\" y2=\"20\" style=\"stroke:#dfe1ff;stroke-width:3;\" /><line x1=\"65\" y1=\"0\" x2=\"65\" y2=\"20\" style=\"stroke:#dee0ff;stroke-width:3;\" /><line x1=\"66\" y1=\"0\" x2=\"66\" y2=\"20\" style=\"stroke:#dee0ff;stroke-width:3;\" /><line x1=\"67\" y1=\"0\" x2=\"67\" y2=\"20\" style=\"stroke:#dddfff;stroke-width:3;\" /><line x1=\"68\" y1=\"0\" x2=\"68\" y2=\"20\" style=\"stroke:#dddfff;stroke-width:3;\" /><line x1=\"69\" y1=\"0\" x2=\"69\" y2=\"20\" style=\"stroke:#dcdeff;stroke-width:3;\" /><line x1=\"70\" y1=\"0\" x2=\"70\" y2=\"20\" style=\"stroke:#dcdeff;stroke-width:3;\" /><line x1=\"71\" y1=\"0\" x2=\"71\" y2=\"20\" style=\"stroke:#dbddff;stroke-width:3;\" /><line x1=\"72\" y1=\"0\" x2=\"72\" y2=\"20\" style=\"stroke:#dbddff;stroke-width:3;\" /><line x1=\"73\" y1=\"0\" x2=\"73\" y2=\"20\" style=\"stroke:#dadcff;stroke-width:3;\" /><line x1=\"74\" y1=\"0\" x2=\"74\" y2=\"20\" style=\"stroke:#dadcff;stroke-width:3;\" /><line x1=\"75\" y1=\"0\" x2=\"75\" y2=\"20\" style=\"stroke:#d9dbff;stroke-width:3;\" /><line x1=\"76\" y1=\"0\" x2=\"76\" y2=\"20\" style=\"stroke:#d9dbff;stroke-width:3;\" /><line x1=\"77\" y1=\"0\" x2=\"77\" y2=\"20\" style=\"stroke:#d8daff;stroke-width:3;\" /><line x1=\"78\" y1=\"0\" x2=\"78\" y2=\"20\" style=\"stroke:#d7daff;stroke-width:3;\" /><line x1=\"79\" y1=\"0\" x2=\"79\" y2=\"20\" style=\"stroke:#d7d9ff;stroke-width:3;\" /><line x1=\"80\" y1=\"0\" x2=\"80\" y2=\"20\" style=\"stroke:#d6d9ff;stroke-width:3;\" /><line x1=\"81\" y1=\"0\" x2=\"81\" y2=\"20\" style=\"stroke:#d6d8ff;stroke-width:3;\" /><line x1=\"82\" y1=\"0\" x2=\"82\" y2=\"20\" style=\"stroke:#d5d8ff;stroke-width:3;\" /><line x1=\"83\" y1=\"0\" x2=\"83\" y2=\"20\" style=\"stroke:#d5d7ff;stroke-width:3;\" /><line x1=\"84\" y1=\"0\" x2=\"84\" y2=\"20\" style=\"stroke:#d4d7ff;stroke-width:3;\" /><line x1=\"85\" y1=\"0\" x2=\"85\" y2=\"20\" style=\"stroke:#d4d6ff;stroke-width:3;\" /><line x1=\"86\" y1=\"0\" x2=\"86\" y2=\"20\" style=\"stroke:#d3d6ff;stroke-width:3;\" /><line x1=\"87\" y1=\"0\" x2=\"87\" y2=\"20\" style=\"stroke:#d3d5ff;stroke-width:3;\" /><line x1=\"88\" y1=\"0\" x2=\"88\" y2=\"20\" style=\"stroke:#d2d5ff;stroke-width:3;\" /><line x1=\"89\" y1=\"0\" x2=\"89\" y2=\"20\" style=\"stroke:#d2d5ff;stroke-width:3;\" /><line x1=\"90\" y1=\"0\" x2=\"90\" y2=\"20\" style=\"stroke:#d1d4ff;stroke-width:3;\" /><line x1=\"91\" y1=\"0\" x2=\"91\" y2=\"20\" style=\"stroke:#d1d4ff;stroke-width:3;\" /><line x1=\"92\" y1=\"0\" x2=\"92\" y2=\"20\" style=\"stroke:#d0d3ff;stroke-width:3;\" /><line x1=\"93\" y1=\"0\" x2=\"93\" y2=\"20\" style=\"stroke:#d0d3ff;stroke-width:3;\" /><line x1=\"94\" y1=\"0\" x2=\"94\" y2=\"20\" style=\"stroke:#cfd2ff;stroke-width:3;\" /><line x1=\"95\" y1=\"0\" x2=\"95\" y2=\"20\" style=\"stroke:#cfd2ff;stroke-width:3;\" /><line x1=\"96\" y1=\"0\" x2=\"96\" y2=\"20\" style=\"stroke:#ced1ff;stroke-width:3;\" /><line x1=\"97\" y1=\"0\" x2=\"97\" y2=\"20\" style=\"stroke:#ced1ff;stroke-width:3;\" /><line x1=\"98\" y1=\"0\" x2=\"98\" y2=\"20\" style=\"stroke:#cdd0ff;stroke-width:3;\" /><line x1=\"99\" y1=\"0\" x2=\"99\" y2=\"20\" style=\"stroke:#cdd0ff;stroke-width:3;\" /><line x1=\"100\" y1=\"0\" x2=\"100\" y2=\"20\" style=\"stroke:#cccfff;stroke-width:3;\" /><line x1=\"101\" y1=\"0\" x2=\"101\" y2=\"20\" style=\"stroke:#cccfff;stroke-width:3;\" /><line x1=\"102\" y1=\"0\" x2=\"102\" y2=\"20\" style=\"stroke:#cbceff;stroke-width:3;\" /><line x1=\"103\" y1=\"0\" x2=\"103\" y2=\"20\" style=\"stroke:#cbceff;stroke-width:3;\" /><line x1=\"104\" y1=\"0\" x2=\"104\" y2=\"20\" style=\"stroke:#cacdff;stroke-width:3;\" /><line x1=\"105\" y1=\"0\" x2=\"105\" y2=\"20\" style=\"stroke:#cacdff;stroke-width:3;\" /><line x1=\"106\" y1=\"0\" x2=\"106\" y2=\"20\" style=\"stroke:#c9ccff;stroke-width:3;\" /><line x1=\"107\" y1=\"0\" x2=\"107\" y2=\"20\" style=\"stroke:#c9ccff;stroke-width:3;\" /><line x1=\"108\" y1=\"0\" x2=\"108\" y2=\"20\" style=\"stroke:#c8cbff;stroke-width:3;\" /><line x1=\"109\" y1=\"0\" x2=\"109\" y2=\"20\" style=\"stroke:#c8cbff;stroke-width:3;\" /><line x1=\"110\" y1=\"0\" x2=\"110\" y2=\"20\" style=\"stroke:#c7caff;stroke-width:3;\" /><line x1=\"111\" y1=\"0\" x2=\"111\" y2=\"20\" style=\"stroke:#c7caff;stroke-width:3;\" /><line x1=\"112\" y1=\"0\" x2=\"112\" y2=\"20\" style=\"stroke:#c6c9ff;stroke-width:3;\" /><line x1=\"113\" y1=\"0\" x2=\"113\" y2=\"20\" style=\"stroke:#c6c9ff;stroke-width:3;\" /><line x1=\"114\" y1=\"0\" x2=\"114\" y2=\"20\" style=\"stroke:#c5c8ff;stroke-width:3;\" /><line x1=\"115\" y1=\"0\" x2=\"115\" y2=\"20\" style=\"stroke:#c5c8ff;stroke-width:3;\" /><line x1=\"116\" y1=\"0\" x2=\"116\" y2=\"20\" style=\"stroke:#c4c7ff;stroke-width:3;\" /><line x1=\"117\" y1=\"0\" x2=\"117\" y2=\"20\" style=\"stroke:#c3c7ff;stroke-width:3;\" /><line x1=\"118\" y1=\"0\" x2=\"118\" y2=\"20\" style=\"stroke:#c3c7ff;stroke-width:3;\" /><line x1=\"119\" y1=\"0\" x2=\"119\" y2=\"20\" style=\"stroke:#c2c6ff;stroke-width:3;\" /><line x1=\"120\" y1=\"0\" x2=\"120\" y2=\"20\" style=\"stroke:#c2c6ff;stroke-width:3;\" /><line x1=\"121\" y1=\"0\" x2=\"121\" y2=\"20\" style=\"stroke:#c1c5ff;stroke-width:3;\" /><line x1=\"122\" y1=\"0\" x2=\"122\" y2=\"20\" style=\"stroke:#c1c5ff;stroke-width:3;\" /><line x1=\"123\" y1=\"0\" x2=\"123\" y2=\"20\" style=\"stroke:#c0c4ff;stroke-width:3;\" /><line x1=\"124\" y1=\"0\" x2=\"124\" y2=\"20\" style=\"stroke:#c0c4ff;stroke-width:3;\" /><line x1=\"125\" y1=\"0\" x2=\"125\" y2=\"20\" style=\"stroke:#bfc3ff;stroke-width:3;\" /><line x1=\"126\" y1=\"0\" x2=\"126\" y2=\"20\" style=\"stroke:#bfc3ff;stroke-width:3;\" /><line x1=\"127\" y1=\"0\" x2=\"127\" y2=\"20\" style=\"stroke:#bec2ff;stroke-width:3;\" /><line x1=\"128\" y1=\"0\" x2=\"128\" y2=\"20\" style=\"stroke:#bec2ff;stroke-width:3;\" /><line x1=\"129\" y1=\"0\" x2=\"129\" y2=\"20\" style=\"stroke:#bdc1ff;stroke-width:3;\" /><line x1=\"130\" y1=\"0\" x2=\"130\" y2=\"20\" style=\"stroke:#bdc1ff;stroke-width:3;\" /><line x1=\"131\" y1=\"0\" x2=\"131\" y2=\"20\" style=\"stroke:#bcc0ff;stroke-width:3;\" /><line x1=\"132\" y1=\"0\" x2=\"132\" y2=\"20\" style=\"stroke:#bcc0ff;stroke-width:3;\" /><line x1=\"133\" y1=\"0\" x2=\"133\" y2=\"20\" style=\"stroke:#bbbfff;stroke-width:3;\" /><line x1=\"134\" y1=\"0\" x2=\"134\" y2=\"20\" style=\"stroke:#bbbfff;stroke-width:3;\" /><line x1=\"135\" y1=\"0\" x2=\"135\" y2=\"20\" style=\"stroke:#babeff;stroke-width:3;\" /><line x1=\"136\" y1=\"0\" x2=\"136\" y2=\"20\" style=\"stroke:#babeff;stroke-width:3;\" /><line x1=\"137\" y1=\"0\" x2=\"137\" y2=\"20\" style=\"stroke:#b9bdff;stroke-width:3;\" /><line x1=\"138\" y1=\"0\" x2=\"138\" y2=\"20\" style=\"stroke:#b9bdff;stroke-width:3;\" /><line x1=\"139\" y1=\"0\" x2=\"139\" y2=\"20\" style=\"stroke:#b8bcff;stroke-width:3;\" /><line x1=\"140\" y1=\"0\" x2=\"140\" y2=\"20\" style=\"stroke:#b8bcff;stroke-width:3;\" /><line x1=\"141\" y1=\"0\" x2=\"141\" y2=\"20\" style=\"stroke:#b7bbff;stroke-width:3;\" /><line x1=\"142\" y1=\"0\" x2=\"142\" y2=\"20\" style=\"stroke:#b7bbff;stroke-width:3;\" /><line x1=\"143\" y1=\"0\" x2=\"143\" y2=\"20\" style=\"stroke:#b6baff;stroke-width:3;\" /><line x1=\"144\" y1=\"0\" x2=\"144\" y2=\"20\" style=\"stroke:#b6baff;stroke-width:3;\" /><line x1=\"145\" y1=\"0\" x2=\"145\" y2=\"20\" style=\"stroke:#b5b9ff;stroke-width:3;\" /><line x1=\"146\" y1=\"0\" x2=\"146\" y2=\"20\" style=\"stroke:#b5b9ff;stroke-width:3;\" /><line x1=\"147\" y1=\"0\" x2=\"147\" y2=\"20\" style=\"stroke:#b4b9ff;stroke-width:3;\" /><line x1=\"148\" y1=\"0\" x2=\"148\" y2=\"20\" style=\"stroke:#b4b8ff;stroke-width:3;\" /><line x1=\"149\" y1=\"0\" x2=\"149\" y2=\"20\" style=\"stroke:#b3b8ff;stroke-width:3;\" /><line x1=\"150\" y1=\"0\" x2=\"150\" y2=\"20\" style=\"stroke:#b3b7ff;stroke-width:3;\" /><line x1=\"151\" y1=\"0\" x2=\"151\" y2=\"20\" style=\"stroke:#b2b7ff;stroke-width:3;\" /><line x1=\"152\" y1=\"0\" x2=\"152\" y2=\"20\" style=\"stroke:#b2b6ff;stroke-width:3;\" /><line x1=\"153\" y1=\"0\" x2=\"153\" y2=\"20\" style=\"stroke:#b1b6ff;stroke-width:3;\" /><line x1=\"154\" y1=\"0\" x2=\"154\" y2=\"20\" style=\"stroke:#b0b5ff;stroke-width:3;\" /><line x1=\"155\" y1=\"0\" x2=\"155\" y2=\"20\" style=\"stroke:#b0b5ff;stroke-width:3;\" /><line x1=\"156\" y1=\"0\" x2=\"156\" y2=\"20\" style=\"stroke:#afb4ff;stroke-width:3;\" /><line x1=\"157\" y1=\"0\" x2=\"157\" y2=\"20\" style=\"stroke:#afb4ff;stroke-width:3;\" /><line x1=\"158\" y1=\"0\" x2=\"158\" y2=\"20\" style=\"stroke:#aeb3ff;stroke-width:3;\" /><line x1=\"159\" y1=\"0\" x2=\"159\" y2=\"20\" style=\"stroke:#aeb3ff;stroke-width:3;\" /><line x1=\"160\" y1=\"0\" x2=\"160\" y2=\"20\" style=\"stroke:#adb2ff;stroke-width:3;\" /><line x1=\"161\" y1=\"0\" x2=\"161\" y2=\"20\" style=\"stroke:#adb2ff;stroke-width:3;\" /><line x1=\"162\" y1=\"0\" x2=\"162\" y2=\"20\" style=\"stroke:#acb1ff;stroke-width:3;\" /><line x1=\"163\" y1=\"0\" x2=\"163\" y2=\"20\" style=\"stroke:#acb1ff;stroke-width:3;\" /><line x1=\"164\" y1=\"0\" x2=\"164\" y2=\"20\" style=\"stroke:#abb0ff;stroke-width:3;\" /><line x1=\"165\" y1=\"0\" x2=\"165\" y2=\"20\" style=\"stroke:#abb0ff;stroke-width:3;\" /><line x1=\"166\" y1=\"0\" x2=\"166\" y2=\"20\" style=\"stroke:#aaafff;stroke-width:3;\" /><line x1=\"167\" y1=\"0\" x2=\"167\" y2=\"20\" style=\"stroke:#aaafff;stroke-width:3;\" /><line x1=\"168\" y1=\"0\" x2=\"168\" y2=\"20\" style=\"stroke:#a9aeff;stroke-width:3;\" /><line x1=\"169\" y1=\"0\" x2=\"169\" y2=\"20\" style=\"stroke:#a9aeff;stroke-width:3;\" /><line x1=\"170\" y1=\"0\" x2=\"170\" y2=\"20\" style=\"stroke:#a8adff;stroke-width:3;\" /><line x1=\"171\" y1=\"0\" x2=\"171\" y2=\"20\" style=\"stroke:#a8adff;stroke-width:3;\" /><line x1=\"172\" y1=\"0\" x2=\"172\" y2=\"20\" style=\"stroke:#a7acff;stroke-width:3;\" /><line x1=\"173\" y1=\"0\" x2=\"173\" y2=\"20\" style=\"stroke:#a7acff;stroke-width:3;\" /><line x1=\"174\" y1=\"0\" x2=\"174\" y2=\"20\" style=\"stroke:#a6abff;stroke-width:3;\" /><line x1=\"175\" y1=\"0\" x2=\"175\" y2=\"20\" style=\"stroke:#a6abff;stroke-width:3;\" /><line x1=\"176\" y1=\"0\" x2=\"176\" y2=\"20\" style=\"stroke:#a5abff;stroke-width:3;\" /><line x1=\"177\" y1=\"0\" x2=\"177\" y2=\"20\" style=\"stroke:#a5aaff;stroke-width:3;\" /><line x1=\"178\" y1=\"0\" x2=\"178\" y2=\"20\" style=\"stroke:#a4aaff;stroke-width:3;\" /><line x1=\"179\" y1=\"0\" x2=\"179\" y2=\"20\" style=\"stroke:#a4a9ff;stroke-width:3;\" /><line x1=\"180\" y1=\"0\" x2=\"180\" y2=\"20\" style=\"stroke:#a3a9ff;stroke-width:3;\" /><line x1=\"181\" y1=\"0\" x2=\"181\" y2=\"20\" style=\"stroke:#a3a8ff;stroke-width:3;\" /><line x1=\"182\" y1=\"0\" x2=\"182\" y2=\"20\" style=\"stroke:#a2a8ff;stroke-width:3;\" /><line x1=\"183\" y1=\"0\" x2=\"183\" y2=\"20\" style=\"stroke:#a2a7ff;stroke-width:3;\" /><line x1=\"184\" y1=\"0\" x2=\"184\" y2=\"20\" style=\"stroke:#a1a7ff;stroke-width:3;\" /><line x1=\"185\" y1=\"0\" x2=\"185\" y2=\"20\" style=\"stroke:#a1a6ff;stroke-width:3;\" /><line x1=\"186\" y1=\"0\" x2=\"186\" y2=\"20\" style=\"stroke:#a0a6ff;stroke-width:3;\" /><line x1=\"187\" y1=\"0\" x2=\"187\" y2=\"20\" style=\"stroke:#a0a5ff;stroke-width:3;\" /><line x1=\"188\" y1=\"0\" x2=\"188\" y2=\"20\" style=\"stroke:#9fa5ff;stroke-width:3;\" /><line x1=\"189\" y1=\"0\" x2=\"189\" y2=\"20\" style=\"stroke:#9fa4ff;stroke-width:3;\" /><line x1=\"190\" y1=\"0\" x2=\"190\" y2=\"20\" style=\"stroke:#9ea4ff;stroke-width:3;\" /><line x1=\"191\" y1=\"0\" x2=\"191\" y2=\"20\" style=\"stroke:#9ea3ff;stroke-width:3;\" /><line x1=\"192\" y1=\"0\" x2=\"192\" y2=\"20\" style=\"stroke:#9da3ff;stroke-width:3;\" /><line x1=\"193\" y1=\"0\" x2=\"193\" y2=\"20\" style=\"stroke:#9ca2ff;stroke-width:3;\" /><line x1=\"194\" y1=\"0\" x2=\"194\" y2=\"20\" style=\"stroke:#9ca2ff;stroke-width:3;\" /><line x1=\"195\" y1=\"0\" x2=\"195\" y2=\"20\" style=\"stroke:#9ba1ff;stroke-width:3;\" /><line x1=\"196\" y1=\"0\" x2=\"196\" y2=\"20\" style=\"stroke:#9ba1ff;stroke-width:3;\" /><line x1=\"197\" y1=\"0\" x2=\"197\" y2=\"20\" style=\"stroke:#9aa0ff;stroke-width:3;\" /><line x1=\"198\" y1=\"0\" x2=\"198\" y2=\"20\" style=\"stroke:#9aa0ff;stroke-width:3;\" /><line x1=\"199\" y1=\"0\" x2=\"199\" y2=\"20\" style=\"stroke:#999fff;stroke-width:3;\" /><line x1=\"200\" y1=\"0\" x2=\"200\" y2=\"20\" style=\"stroke:#999fff;stroke-width:3;\" /><line x1=\"201\" y1=\"0\" x2=\"201\" y2=\"20\" style=\"stroke:#989eff;stroke-width:3;\" /><line x1=\"202\" y1=\"0\" x2=\"202\" y2=\"20\" style=\"stroke:#989eff;stroke-width:3;\" /><line x1=\"203\" y1=\"0\" x2=\"203\" y2=\"20\" style=\"stroke:#979dff;stroke-width:3;\" /><line x1=\"204\" y1=\"0\" x2=\"204\" y2=\"20\" style=\"stroke:#979dff;stroke-width:3;\" /><line x1=\"205\" y1=\"0\" x2=\"205\" y2=\"20\" style=\"stroke:#969dff;stroke-width:3;\" /><line x1=\"206\" y1=\"0\" x2=\"206\" y2=\"20\" style=\"stroke:#969cff;stroke-width:3;\" /><line x1=\"207\" y1=\"0\" x2=\"207\" y2=\"20\" style=\"stroke:#959cff;stroke-width:3;\" /><line x1=\"208\" y1=\"0\" x2=\"208\" y2=\"20\" style=\"stroke:#959bff;stroke-width:3;\" /><line x1=\"209\" y1=\"0\" x2=\"209\" y2=\"20\" style=\"stroke:#949bff;stroke-width:3;\" /><line x1=\"210\" y1=\"0\" x2=\"210\" y2=\"20\" style=\"stroke:#949aff;stroke-width:3;\" /><line x1=\"211\" y1=\"0\" x2=\"211\" y2=\"20\" style=\"stroke:#939aff;stroke-width:3;\" /><line x1=\"212\" y1=\"0\" x2=\"212\" y2=\"20\" style=\"stroke:#9399ff;stroke-width:3;\" /><line x1=\"213\" y1=\"0\" x2=\"213\" y2=\"20\" style=\"stroke:#9299ff;stroke-width:3;\" /><line x1=\"214\" y1=\"0\" x2=\"214\" y2=\"20\" style=\"stroke:#9298ff;stroke-width:3;\" /><line x1=\"215\" y1=\"0\" x2=\"215\" y2=\"20\" style=\"stroke:#9198ff;stroke-width:3;\" /><line x1=\"216\" y1=\"0\" x2=\"216\" y2=\"20\" style=\"stroke:#9197ff;stroke-width:3;\" /><line x1=\"217\" y1=\"0\" x2=\"217\" y2=\"20\" style=\"stroke:#9097ff;stroke-width:3;\" /><line x1=\"218\" y1=\"0\" x2=\"218\" y2=\"20\" style=\"stroke:#9096ff;stroke-width:3;\" /><line x1=\"219\" y1=\"0\" x2=\"219\" y2=\"20\" style=\"stroke:#8f96ff;stroke-width:3;\" /><line x1=\"220\" y1=\"0\" x2=\"220\" y2=\"20\" style=\"stroke:#8f95ff;stroke-width:3;\" /><line x1=\"221\" y1=\"0\" x2=\"221\" y2=\"20\" style=\"stroke:#8e95ff;stroke-width:3;\" /><line x1=\"222\" y1=\"0\" x2=\"222\" y2=\"20\" style=\"stroke:#8e94ff;stroke-width:3;\" /><line x1=\"223\" y1=\"0\" x2=\"223\" y2=\"20\" style=\"stroke:#8d94ff;stroke-width:3;\" /><line x1=\"224\" y1=\"0\" x2=\"224\" y2=\"20\" style=\"stroke:#8d93ff;stroke-width:3;\" /><line x1=\"225\" y1=\"0\" x2=\"225\" y2=\"20\" style=\"stroke:#8c93ff;stroke-width:3;\" /><line x1=\"226\" y1=\"0\" x2=\"226\" y2=\"20\" style=\"stroke:#8c92ff;stroke-width:3;\" /><line x1=\"227\" y1=\"0\" x2=\"227\" y2=\"20\" style=\"stroke:#8b92ff;stroke-width:3;\" /><line x1=\"228\" y1=\"0\" x2=\"228\" y2=\"20\" style=\"stroke:#8b91ff;stroke-width:3;\" /><line x1=\"229\" y1=\"0\" x2=\"229\" y2=\"20\" style=\"stroke:#8a91ff;stroke-width:3;\" /><line x1=\"230\" y1=\"0\" x2=\"230\" y2=\"20\" style=\"stroke:#8a90ff;stroke-width:3;\" /><line x1=\"231\" y1=\"0\" x2=\"231\" y2=\"20\" style=\"stroke:#8990ff;stroke-width:3;\" /><line x1=\"232\" y1=\"0\" x2=\"232\" y2=\"20\" style=\"stroke:#888fff;stroke-width:3;\" /><line x1=\"233\" y1=\"0\" x2=\"233\" y2=\"20\" style=\"stroke:#888fff;stroke-width:3;\" /><line x1=\"234\" y1=\"0\" x2=\"234\" y2=\"20\" style=\"stroke:#878fff;stroke-width:3;\" /><line x1=\"235\" y1=\"0\" x2=\"235\" y2=\"20\" style=\"stroke:#878eff;stroke-width:3;\" /><line x1=\"236\" y1=\"0\" x2=\"236\" y2=\"20\" style=\"stroke:#868eff;stroke-width:3;\" /><line x1=\"237\" y1=\"0\" x2=\"237\" y2=\"20\" style=\"stroke:#868dff;stroke-width:3;\" /><line x1=\"238\" y1=\"0\" x2=\"238\" y2=\"20\" style=\"stroke:#858dff;stroke-width:3;\" /><line x1=\"239\" y1=\"0\" x2=\"239\" y2=\"20\" style=\"stroke:#858cff;stroke-width:3;\" /><line x1=\"240\" y1=\"0\" x2=\"240\" y2=\"20\" style=\"stroke:#848cff;stroke-width:3;\" /><line x1=\"241\" y1=\"0\" x2=\"241\" y2=\"20\" style=\"stroke:#848bff;stroke-width:3;\" /><line x1=\"242\" y1=\"0\" x2=\"242\" y2=\"20\" style=\"stroke:#838bff;stroke-width:3;\" /><line x1=\"243\" y1=\"0\" x2=\"243\" y2=\"20\" style=\"stroke:#838aff;stroke-width:3;\" /><line x1=\"244\" y1=\"0\" x2=\"244\" y2=\"20\" style=\"stroke:#828aff;stroke-width:3;\" /><line x1=\"245\" y1=\"0\" x2=\"245\" y2=\"20\" style=\"stroke:#8289ff;stroke-width:3;\" /><line x1=\"246\" y1=\"0\" x2=\"246\" y2=\"20\" style=\"stroke:#8189ff;stroke-width:3;\" /><line x1=\"247\" y1=\"0\" x2=\"247\" y2=\"20\" style=\"stroke:#8188ff;stroke-width:3;\" /><line x1=\"248\" y1=\"0\" x2=\"248\" y2=\"20\" style=\"stroke:#8088ff;stroke-width:3;\" /><line x1=\"249\" y1=\"0\" x2=\"249\" y2=\"20\" style=\"stroke:#8087ff;stroke-width:3;\" /><line x1=\"250\" y1=\"0\" x2=\"250\" y2=\"20\" style=\"stroke:#7f87ff;stroke-width:3;\" /><line x1=\"251\" y1=\"0\" x2=\"251\" y2=\"20\" style=\"stroke:#7f86ff;stroke-width:3;\" /><line x1=\"252\" y1=\"0\" x2=\"252\" y2=\"20\" style=\"stroke:#7e86ff;stroke-width:3;\" /><line x1=\"253\" y1=\"0\" x2=\"253\" y2=\"20\" style=\"stroke:#7e85ff;stroke-width:3;\" /><line x1=\"254\" y1=\"0\" x2=\"254\" y2=\"20\" style=\"stroke:#7d85ff;stroke-width:3;\" /><line x1=\"255\" y1=\"0\" x2=\"255\" y2=\"20\" style=\"stroke:#7d84ff;stroke-width:3;\" /><line x1=\"256\" y1=\"0\" x2=\"256\" y2=\"20\" style=\"stroke:#7c84ff;stroke-width:3;\" /><line x1=\"257\" y1=\"0\" x2=\"257\" y2=\"20\" style=\"stroke:#7c83ff;stroke-width:3;\" /><line x1=\"258\" y1=\"0\" x2=\"258\" y2=\"20\" style=\"stroke:#7b83ff;stroke-width:3;\" /><line x1=\"259\" y1=\"0\" x2=\"259\" y2=\"20\" style=\"stroke:#7b82ff;stroke-width:3;\" /><line x1=\"260\" y1=\"0\" x2=\"260\" y2=\"20\" style=\"stroke:#7a82ff;stroke-width:3;\" /><line x1=\"261\" y1=\"0\" x2=\"261\" y2=\"20\" style=\"stroke:#7a81ff;stroke-width:3;\" /><line x1=\"262\" y1=\"0\" x2=\"262\" y2=\"20\" style=\"stroke:#7981ff;stroke-width:3;\" /><line x1=\"263\" y1=\"0\" x2=\"263\" y2=\"20\" style=\"stroke:#7981ff;stroke-width:3;\" /><line x1=\"264\" y1=\"0\" x2=\"264\" y2=\"20\" style=\"stroke:#7880ff;stroke-width:3;\" /><line x1=\"265\" y1=\"0\" x2=\"265\" y2=\"20\" style=\"stroke:#7880ff;stroke-width:3;\" /><line x1=\"266\" y1=\"0\" x2=\"266\" y2=\"20\" style=\"stroke:#777fff;stroke-width:3;\" /><line x1=\"267\" y1=\"0\" x2=\"267\" y2=\"20\" style=\"stroke:#777fff;stroke-width:3;\" /><line x1=\"268\" y1=\"0\" x2=\"268\" y2=\"20\" style=\"stroke:#767eff;stroke-width:3;\" /><line x1=\"269\" y1=\"0\" x2=\"269\" y2=\"20\" style=\"stroke:#757eff;stroke-width:3;\" /><line x1=\"270\" y1=\"0\" x2=\"270\" y2=\"20\" style=\"stroke:#757dff;stroke-width:3;\" /><line x1=\"271\" y1=\"0\" x2=\"271\" y2=\"20\" style=\"stroke:#747dff;stroke-width:3;\" /><line x1=\"272\" y1=\"0\" x2=\"272\" y2=\"20\" style=\"stroke:#747cff;stroke-width:3;\" /><line x1=\"273\" y1=\"0\" x2=\"273\" y2=\"20\" style=\"stroke:#737cff;stroke-width:3;\" /><line x1=\"274\" y1=\"0\" x2=\"274\" y2=\"20\" style=\"stroke:#737bff;stroke-width:3;\" /><line x1=\"275\" y1=\"0\" x2=\"275\" y2=\"20\" style=\"stroke:#727bff;stroke-width:3;\" /><line x1=\"276\" y1=\"0\" x2=\"276\" y2=\"20\" style=\"stroke:#727aff;stroke-width:3;\" /><line x1=\"277\" y1=\"0\" x2=\"277\" y2=\"20\" style=\"stroke:#717aff;stroke-width:3;\" /><line x1=\"278\" y1=\"0\" x2=\"278\" y2=\"20\" style=\"stroke:#7179ff;stroke-width:3;\" /><line x1=\"279\" y1=\"0\" x2=\"279\" y2=\"20\" style=\"stroke:#7079ff;stroke-width:3;\" /><line x1=\"280\" y1=\"0\" x2=\"280\" y2=\"20\" style=\"stroke:#7078ff;stroke-width:3;\" /><line x1=\"281\" y1=\"0\" x2=\"281\" y2=\"20\" style=\"stroke:#6f78ff;stroke-width:3;\" /><line x1=\"282\" y1=\"0\" x2=\"282\" y2=\"20\" style=\"stroke:#6f77ff;stroke-width:3;\" /><line x1=\"283\" y1=\"0\" x2=\"283\" y2=\"20\" style=\"stroke:#6e77ff;stroke-width:3;\" /><line x1=\"284\" y1=\"0\" x2=\"284\" y2=\"20\" style=\"stroke:#6e76ff;stroke-width:3;\" /><line x1=\"285\" y1=\"0\" x2=\"285\" y2=\"20\" style=\"stroke:#6d76ff;stroke-width:3;\" /><line x1=\"286\" y1=\"0\" x2=\"286\" y2=\"20\" style=\"stroke:#6d75ff;stroke-width:3;\" /><line x1=\"287\" y1=\"0\" x2=\"287\" y2=\"20\" style=\"stroke:#6c75ff;stroke-width:3;\" /><line x1=\"288\" y1=\"0\" x2=\"288\" y2=\"20\" style=\"stroke:#6c74ff;stroke-width:3;\" /><line x1=\"289\" y1=\"0\" x2=\"289\" y2=\"20\" style=\"stroke:#6b74ff;stroke-width:3;\" /><line x1=\"290\" y1=\"0\" x2=\"290\" y2=\"20\" style=\"stroke:#6b73ff;stroke-width:3;\" /><line x1=\"291\" y1=\"0\" x2=\"291\" y2=\"20\" style=\"stroke:#6a73ff;stroke-width:3;\" /><line x1=\"292\" y1=\"0\" x2=\"292\" y2=\"20\" style=\"stroke:#6a73ff;stroke-width:3;\" /><line x1=\"293\" y1=\"0\" x2=\"293\" y2=\"20\" style=\"stroke:#6972ff;stroke-width:3;\" /><line x1=\"294\" y1=\"0\" x2=\"294\" y2=\"20\" style=\"stroke:#6972ff;stroke-width:3;\" /><line x1=\"295\" y1=\"0\" x2=\"295\" y2=\"20\" style=\"stroke:#6871ff;stroke-width:3;\" /><line x1=\"296\" y1=\"0\" x2=\"296\" y2=\"20\" style=\"stroke:#6871ff;stroke-width:3;\" /><line x1=\"297\" y1=\"0\" x2=\"297\" y2=\"20\" style=\"stroke:#6770ff;stroke-width:3;\" /><line x1=\"298\" y1=\"0\" x2=\"298\" y2=\"20\" style=\"stroke:#6770ff;stroke-width:3;\" /><line x1=\"299\" y1=\"0\" x2=\"299\" y2=\"20\" style=\"stroke:#666fff;stroke-width:3;\" /><line x1=\"300\" y1=\"0\" x2=\"300\" y2=\"20\" style=\"stroke:#666fff;stroke-width:3;\" /><line x1=\"301\" y1=\"0\" x2=\"301\" y2=\"20\" style=\"stroke:#656eff;stroke-width:3;\" /><line x1=\"302\" y1=\"0\" x2=\"302\" y2=\"20\" style=\"stroke:#656eff;stroke-width:3;\" /><line x1=\"303\" y1=\"0\" x2=\"303\" y2=\"20\" style=\"stroke:#646dff;stroke-width:3;\" /><line x1=\"304\" y1=\"0\" x2=\"304\" y2=\"20\" style=\"stroke:#646dff;stroke-width:3;\" /><line x1=\"305\" y1=\"0\" x2=\"305\" y2=\"20\" style=\"stroke:#636cff;stroke-width:3;\" /><line x1=\"306\" y1=\"0\" x2=\"306\" y2=\"20\" style=\"stroke:#636cff;stroke-width:3;\" /><line x1=\"307\" y1=\"0\" x2=\"307\" y2=\"20\" style=\"stroke:#626bff;stroke-width:3;\" /><line x1=\"308\" y1=\"0\" x2=\"308\" y2=\"20\" style=\"stroke:#616bff;stroke-width:3;\" /><line x1=\"309\" y1=\"0\" x2=\"309\" y2=\"20\" style=\"stroke:#616aff;stroke-width:3;\" /><line x1=\"310\" y1=\"0\" x2=\"310\" y2=\"20\" style=\"stroke:#606aff;stroke-width:3;\" /><line x1=\"311\" y1=\"0\" x2=\"311\" y2=\"20\" style=\"stroke:#6069ff;stroke-width:3;\" /><line x1=\"312\" y1=\"0\" x2=\"312\" y2=\"20\" style=\"stroke:#5f69ff;stroke-width:3;\" /><line x1=\"313\" y1=\"0\" x2=\"313\" y2=\"20\" style=\"stroke:#5f68ff;stroke-width:3;\" /><line x1=\"314\" y1=\"0\" x2=\"314\" y2=\"20\" style=\"stroke:#5e68ff;stroke-width:3;\" /><line x1=\"315\" y1=\"0\" x2=\"315\" y2=\"20\" style=\"stroke:#5e67ff;stroke-width:3;\" /><line x1=\"316\" y1=\"0\" x2=\"316\" y2=\"20\" style=\"stroke:#5d67ff;stroke-width:3;\" /><line x1=\"317\" y1=\"0\" x2=\"317\" y2=\"20\" style=\"stroke:#5d66ff;stroke-width:3;\" /><line x1=\"318\" y1=\"0\" x2=\"318\" y2=\"20\" style=\"stroke:#5c66ff;stroke-width:3;\" /><line x1=\"319\" y1=\"0\" x2=\"319\" y2=\"20\" style=\"stroke:#5c65ff;stroke-width:3;\" /><line x1=\"320\" y1=\"0\" x2=\"320\" y2=\"20\" style=\"stroke:#5b65ff;stroke-width:3;\" /><line x1=\"321\" y1=\"0\" x2=\"321\" y2=\"20\" style=\"stroke:#5b65ff;stroke-width:3;\" /><line x1=\"322\" y1=\"0\" x2=\"322\" y2=\"20\" style=\"stroke:#5a64ff;stroke-width:3;\" /><line x1=\"323\" y1=\"0\" x2=\"323\" y2=\"20\" style=\"stroke:#5a64ff;stroke-width:3;\" /><line x1=\"324\" y1=\"0\" x2=\"324\" y2=\"20\" style=\"stroke:#5963ff;stroke-width:3;\" /><line x1=\"325\" y1=\"0\" x2=\"325\" y2=\"20\" style=\"stroke:#5963ff;stroke-width:3;\" /><line x1=\"326\" y1=\"0\" x2=\"326\" y2=\"20\" style=\"stroke:#5862ff;stroke-width:3;\" /><line x1=\"327\" y1=\"0\" x2=\"327\" y2=\"20\" style=\"stroke:#5862ff;stroke-width:3;\" /><line x1=\"328\" y1=\"0\" x2=\"328\" y2=\"20\" style=\"stroke:#5761ff;stroke-width:3;\" /><line x1=\"329\" y1=\"0\" x2=\"329\" y2=\"20\" style=\"stroke:#5761ff;stroke-width:3;\" /><line x1=\"330\" y1=\"0\" x2=\"330\" y2=\"20\" style=\"stroke:#5660ff;stroke-width:3;\" /><line x1=\"331\" y1=\"0\" x2=\"331\" y2=\"20\" style=\"stroke:#5660ff;stroke-width:3;\" /><line x1=\"332\" y1=\"0\" x2=\"332\" y2=\"20\" style=\"stroke:#555fff;stroke-width:3;\" /><line x1=\"333\" y1=\"0\" x2=\"333\" y2=\"20\" style=\"stroke:#555fff;stroke-width:3;\" /><line x1=\"334\" y1=\"0\" x2=\"334\" y2=\"20\" style=\"stroke:#545eff;stroke-width:3;\" /><line x1=\"335\" y1=\"0\" x2=\"335\" y2=\"20\" style=\"stroke:#545eff;stroke-width:3;\" /><line x1=\"336\" y1=\"0\" x2=\"336\" y2=\"20\" style=\"stroke:#535dff;stroke-width:3;\" /><line x1=\"337\" y1=\"0\" x2=\"337\" y2=\"20\" style=\"stroke:#535dff;stroke-width:3;\" /><line x1=\"338\" y1=\"0\" x2=\"338\" y2=\"20\" style=\"stroke:#525cff;stroke-width:3;\" /><line x1=\"339\" y1=\"0\" x2=\"339\" y2=\"20\" style=\"stroke:#525cff;stroke-width:3;\" /><line x1=\"340\" y1=\"0\" x2=\"340\" y2=\"20\" style=\"stroke:#515bff;stroke-width:3;\" /><line x1=\"341\" y1=\"0\" x2=\"341\" y2=\"20\" style=\"stroke:#515bff;stroke-width:3;\" /><line x1=\"342\" y1=\"0\" x2=\"342\" y2=\"20\" style=\"stroke:#505aff;stroke-width:3;\" /><line x1=\"343\" y1=\"0\" x2=\"343\" y2=\"20\" style=\"stroke:#505aff;stroke-width:3;\" /><line x1=\"344\" y1=\"0\" x2=\"344\" y2=\"20\" style=\"stroke:#4f59ff;stroke-width:3;\" /><line x1=\"345\" y1=\"0\" x2=\"345\" y2=\"20\" style=\"stroke:#4f59ff;stroke-width:3;\" /><line x1=\"346\" y1=\"0\" x2=\"346\" y2=\"20\" style=\"stroke:#4e58ff;stroke-width:3;\" /><line x1=\"347\" y1=\"0\" x2=\"347\" y2=\"20\" style=\"stroke:#4d58ff;stroke-width:3;\" /><line x1=\"348\" y1=\"0\" x2=\"348\" y2=\"20\" style=\"stroke:#4d57ff;stroke-width:3;\" /><line x1=\"349\" y1=\"0\" x2=\"349\" y2=\"20\" style=\"stroke:#4c57ff;stroke-width:3;\" /><line x1=\"350\" y1=\"0\" x2=\"350\" y2=\"20\" style=\"stroke:#4c57ff;stroke-width:3;\" /><line x1=\"351\" y1=\"0\" x2=\"351\" y2=\"20\" style=\"stroke:#4b56ff;stroke-width:3;\" /><line x1=\"352\" y1=\"0\" x2=\"352\" y2=\"20\" style=\"stroke:#4b56ff;stroke-width:3;\" /><line x1=\"353\" y1=\"0\" x2=\"353\" y2=\"20\" style=\"stroke:#4a55ff;stroke-width:3;\" /><line x1=\"354\" y1=\"0\" x2=\"354\" y2=\"20\" style=\"stroke:#4a55ff;stroke-width:3;\" /><line x1=\"355\" y1=\"0\" x2=\"355\" y2=\"20\" style=\"stroke:#4954ff;stroke-width:3;\" /><line x1=\"356\" y1=\"0\" x2=\"356\" y2=\"20\" style=\"stroke:#4954ff;stroke-width:3;\" /><line x1=\"357\" y1=\"0\" x2=\"357\" y2=\"20\" style=\"stroke:#4853ff;stroke-width:3;\" /><line x1=\"358\" y1=\"0\" x2=\"358\" y2=\"20\" style=\"stroke:#4853ff;stroke-width:3;\" /><line x1=\"359\" y1=\"0\" x2=\"359\" y2=\"20\" style=\"stroke:#4752ff;stroke-width:3;\" /><line x1=\"360\" y1=\"0\" x2=\"360\" y2=\"20\" style=\"stroke:#4752ff;stroke-width:3;\" /><line x1=\"361\" y1=\"0\" x2=\"361\" y2=\"20\" style=\"stroke:#4651ff;stroke-width:3;\" /><line x1=\"362\" y1=\"0\" x2=\"362\" y2=\"20\" style=\"stroke:#4651ff;stroke-width:3;\" /><line x1=\"363\" y1=\"0\" x2=\"363\" y2=\"20\" style=\"stroke:#4550ff;stroke-width:3;\" /><line x1=\"364\" y1=\"0\" x2=\"364\" y2=\"20\" style=\"stroke:#4550ff;stroke-width:3;\" /><line x1=\"365\" y1=\"0\" x2=\"365\" y2=\"20\" style=\"stroke:#444fff;stroke-width:3;\" /><line x1=\"366\" y1=\"0\" x2=\"366\" y2=\"20\" style=\"stroke:#444fff;stroke-width:3;\" /><line x1=\"367\" y1=\"0\" x2=\"367\" y2=\"20\" style=\"stroke:#434eff;stroke-width:3;\" /><line x1=\"368\" y1=\"0\" x2=\"368\" y2=\"20\" style=\"stroke:#434eff;stroke-width:3;\" /><line x1=\"369\" y1=\"0\" x2=\"369\" y2=\"20\" style=\"stroke:#424dff;stroke-width:3;\" /><line x1=\"370\" y1=\"0\" x2=\"370\" y2=\"20\" style=\"stroke:#424dff;stroke-width:3;\" /><line x1=\"371\" y1=\"0\" x2=\"371\" y2=\"20\" style=\"stroke:#414cff;stroke-width:3;\" /><line x1=\"372\" y1=\"0\" x2=\"372\" y2=\"20\" style=\"stroke:#414cff;stroke-width:3;\" /><line x1=\"373\" y1=\"0\" x2=\"373\" y2=\"20\" style=\"stroke:#404bff;stroke-width:3;\" /><line x1=\"374\" y1=\"0\" x2=\"374\" y2=\"20\" style=\"stroke:#404bff;stroke-width:3;\" /><line x1=\"375\" y1=\"0\" x2=\"375\" y2=\"20\" style=\"stroke:#3f4aff;stroke-width:3;\" /><line x1=\"376\" y1=\"0\" x2=\"376\" y2=\"20\" style=\"stroke:#3f4aff;stroke-width:3;\" /><line x1=\"377\" y1=\"0\" x2=\"377\" y2=\"20\" style=\"stroke:#3e49ff;stroke-width:3;\" /><line x1=\"378\" y1=\"0\" x2=\"378\" y2=\"20\" style=\"stroke:#3e49ff;stroke-width:3;\" /><line x1=\"379\" y1=\"0\" x2=\"379\" y2=\"20\" style=\"stroke:#3d49ff;stroke-width:3;\" /><line x1=\"380\" y1=\"0\" x2=\"380\" y2=\"20\" style=\"stroke:#3d48ff;stroke-width:3;\" /><line x1=\"381\" y1=\"0\" x2=\"381\" y2=\"20\" style=\"stroke:#3c48ff;stroke-width:3;\" /><line x1=\"382\" y1=\"0\" x2=\"382\" y2=\"20\" style=\"stroke:#3c47ff;stroke-width:3;\" /><line x1=\"383\" y1=\"0\" x2=\"383\" y2=\"20\" style=\"stroke:#3b47ff;stroke-width:3;\" /><line x1=\"384\" y1=\"0\" x2=\"384\" y2=\"20\" style=\"stroke:#3a46ff;stroke-width:3;\" /><line x1=\"385\" y1=\"0\" x2=\"385\" y2=\"20\" style=\"stroke:#3a46ff;stroke-width:3;\" /><line x1=\"386\" y1=\"0\" x2=\"386\" y2=\"20\" style=\"stroke:#3945ff;stroke-width:3;\" /><line x1=\"387\" y1=\"0\" x2=\"387\" y2=\"20\" style=\"stroke:#3945ff;stroke-width:3;\" /><line x1=\"388\" y1=\"0\" x2=\"388\" y2=\"20\" style=\"stroke:#3844ff;stroke-width:3;\" /><line x1=\"389\" y1=\"0\" x2=\"389\" y2=\"20\" style=\"stroke:#3844ff;stroke-width:3;\" /><line x1=\"390\" y1=\"0\" x2=\"390\" y2=\"20\" style=\"stroke:#3743ff;stroke-width:3;\" /><line x1=\"391\" y1=\"0\" x2=\"391\" y2=\"20\" style=\"stroke:#3743ff;stroke-width:3;\" /><line x1=\"392\" y1=\"0\" x2=\"392\" y2=\"20\" style=\"stroke:#3642ff;stroke-width:3;\" /><line x1=\"393\" y1=\"0\" x2=\"393\" y2=\"20\" style=\"stroke:#3642ff;stroke-width:3;\" /><line x1=\"394\" y1=\"0\" x2=\"394\" y2=\"20\" style=\"stroke:#3541ff;stroke-width:3;\" /><line x1=\"395\" y1=\"0\" x2=\"395\" y2=\"20\" style=\"stroke:#3541ff;stroke-width:3;\" /><line x1=\"396\" y1=\"0\" x2=\"396\" y2=\"20\" style=\"stroke:#3440ff;stroke-width:3;\" /><line x1=\"397\" y1=\"0\" x2=\"397\" y2=\"20\" style=\"stroke:#3440ff;stroke-width:3;\" /><line x1=\"398\" y1=\"0\" x2=\"398\" y2=\"20\" style=\"stroke:#333fff;stroke-width:3;\" /><line x1=\"399\" y1=\"0\" x2=\"399\" y2=\"20\" style=\"stroke:#333fff;stroke-width:3;\" /><line x1=\"400\" y1=\"0\" x2=\"400\" y2=\"20\" style=\"stroke:#323eff;stroke-width:3;\" /><line x1=\"401\" y1=\"0\" x2=\"401\" y2=\"20\" style=\"stroke:#323eff;stroke-width:3;\" /><line x1=\"402\" y1=\"0\" x2=\"402\" y2=\"20\" style=\"stroke:#313dff;stroke-width:3;\" /><line x1=\"403\" y1=\"0\" x2=\"403\" y2=\"20\" style=\"stroke:#313dff;stroke-width:3;\" /><line x1=\"404\" y1=\"0\" x2=\"404\" y2=\"20\" style=\"stroke:#303cff;stroke-width:3;\" /><line x1=\"405\" y1=\"0\" x2=\"405\" y2=\"20\" style=\"stroke:#303cff;stroke-width:3;\" /><line x1=\"406\" y1=\"0\" x2=\"406\" y2=\"20\" style=\"stroke:#2f3bff;stroke-width:3;\" /><line x1=\"407\" y1=\"0\" x2=\"407\" y2=\"20\" style=\"stroke:#2f3bff;stroke-width:3;\" /><line x1=\"408\" y1=\"0\" x2=\"408\" y2=\"20\" style=\"stroke:#2e3aff;stroke-width:3;\" /><line x1=\"409\" y1=\"0\" x2=\"409\" y2=\"20\" style=\"stroke:#2e3aff;stroke-width:3;\" /><line x1=\"410\" y1=\"0\" x2=\"410\" y2=\"20\" style=\"stroke:#2d3aff;stroke-width:3;\" /><line x1=\"411\" y1=\"0\" x2=\"411\" y2=\"20\" style=\"stroke:#2d39ff;stroke-width:3;\" /><line x1=\"412\" y1=\"0\" x2=\"412\" y2=\"20\" style=\"stroke:#2c39ff;stroke-width:3;\" /><line x1=\"413\" y1=\"0\" x2=\"413\" y2=\"20\" style=\"stroke:#2c38ff;stroke-width:3;\" /><line x1=\"414\" y1=\"0\" x2=\"414\" y2=\"20\" style=\"stroke:#2b38ff;stroke-width:3;\" /><line x1=\"415\" y1=\"0\" x2=\"415\" y2=\"20\" style=\"stroke:#2b37ff;stroke-width:3;\" /><line x1=\"416\" y1=\"0\" x2=\"416\" y2=\"20\" style=\"stroke:#2a37ff;stroke-width:3;\" /><line x1=\"417\" y1=\"0\" x2=\"417\" y2=\"20\" style=\"stroke:#2a36ff;stroke-width:3;\" /><line x1=\"418\" y1=\"0\" x2=\"418\" y2=\"20\" style=\"stroke:#2936ff;stroke-width:3;\" /><line x1=\"419\" y1=\"0\" x2=\"419\" y2=\"20\" style=\"stroke:#2935ff;stroke-width:3;\" /><line x1=\"420\" y1=\"0\" x2=\"420\" y2=\"20\" style=\"stroke:#2835ff;stroke-width:3;\" /><line x1=\"421\" y1=\"0\" x2=\"421\" y2=\"20\" style=\"stroke:#2834ff;stroke-width:3;\" /><line x1=\"422\" y1=\"0\" x2=\"422\" y2=\"20\" style=\"stroke:#2734ff;stroke-width:3;\" /><line x1=\"423\" y1=\"0\" x2=\"423\" y2=\"20\" style=\"stroke:#2633ff;stroke-width:3;\" /><line x1=\"424\" y1=\"0\" x2=\"424\" y2=\"20\" style=\"stroke:#2633ff;stroke-width:3;\" /><line x1=\"425\" y1=\"0\" x2=\"425\" y2=\"20\" style=\"stroke:#2532ff;stroke-width:3;\" /><line x1=\"426\" y1=\"0\" x2=\"426\" y2=\"20\" style=\"stroke:#2532ff;stroke-width:3;\" /><line x1=\"427\" y1=\"0\" x2=\"427\" y2=\"20\" style=\"stroke:#2431ff;stroke-width:3;\" /><line x1=\"428\" y1=\"0\" x2=\"428\" y2=\"20\" style=\"stroke:#2431ff;stroke-width:3;\" /><line x1=\"429\" y1=\"0\" x2=\"429\" y2=\"20\" style=\"stroke:#2330ff;stroke-width:3;\" /><line x1=\"430\" y1=\"0\" x2=\"430\" y2=\"20\" style=\"stroke:#2330ff;stroke-width:3;\" /><line x1=\"431\" y1=\"0\" x2=\"431\" y2=\"20\" style=\"stroke:#222fff;stroke-width:3;\" /><line x1=\"432\" y1=\"0\" x2=\"432\" y2=\"20\" style=\"stroke:#222fff;stroke-width:3;\" /><line x1=\"433\" y1=\"0\" x2=\"433\" y2=\"20\" style=\"stroke:#212eff;stroke-width:3;\" /><line x1=\"434\" y1=\"0\" x2=\"434\" y2=\"20\" style=\"stroke:#212eff;stroke-width:3;\" /><line x1=\"435\" y1=\"0\" x2=\"435\" y2=\"20\" style=\"stroke:#202dff;stroke-width:3;\" /><line x1=\"436\" y1=\"0\" x2=\"436\" y2=\"20\" style=\"stroke:#202dff;stroke-width:3;\" /><line x1=\"437\" y1=\"0\" x2=\"437\" y2=\"20\" style=\"stroke:#1f2cff;stroke-width:3;\" /><line x1=\"438\" y1=\"0\" x2=\"438\" y2=\"20\" style=\"stroke:#1f2cff;stroke-width:3;\" /><line x1=\"439\" y1=\"0\" x2=\"439\" y2=\"20\" style=\"stroke:#1e2cff;stroke-width:3;\" /><line x1=\"440\" y1=\"0\" x2=\"440\" y2=\"20\" style=\"stroke:#1e2bff;stroke-width:3;\" /><line x1=\"441\" y1=\"0\" x2=\"441\" y2=\"20\" style=\"stroke:#1d2bff;stroke-width:3;\" /><line x1=\"442\" y1=\"0\" x2=\"442\" y2=\"20\" style=\"stroke:#1d2aff;stroke-width:3;\" /><line x1=\"443\" y1=\"0\" x2=\"443\" y2=\"20\" style=\"stroke:#1c2aff;stroke-width:3;\" /><line x1=\"444\" y1=\"0\" x2=\"444\" y2=\"20\" style=\"stroke:#1c29ff;stroke-width:3;\" /><line x1=\"445\" y1=\"0\" x2=\"445\" y2=\"20\" style=\"stroke:#1b29ff;stroke-width:3;\" /><line x1=\"446\" y1=\"0\" x2=\"446\" y2=\"20\" style=\"stroke:#1b28ff;stroke-width:3;\" /><line x1=\"447\" y1=\"0\" x2=\"447\" y2=\"20\" style=\"stroke:#1a28ff;stroke-width:3;\" /><line x1=\"448\" y1=\"0\" x2=\"448\" y2=\"20\" style=\"stroke:#1a27ff;stroke-width:3;\" /><line x1=\"449\" y1=\"0\" x2=\"449\" y2=\"20\" style=\"stroke:#1927ff;stroke-width:3;\" /><line x1=\"450\" y1=\"0\" x2=\"450\" y2=\"20\" style=\"stroke:#1926ff;stroke-width:3;\" /><line x1=\"451\" y1=\"0\" x2=\"451\" y2=\"20\" style=\"stroke:#1826ff;stroke-width:3;\" /><line x1=\"452\" y1=\"0\" x2=\"452\" y2=\"20\" style=\"stroke:#1825ff;stroke-width:3;\" /><line x1=\"453\" y1=\"0\" x2=\"453\" y2=\"20\" style=\"stroke:#1725ff;stroke-width:3;\" /><line x1=\"454\" y1=\"0\" x2=\"454\" y2=\"20\" style=\"stroke:#1724ff;stroke-width:3;\" /><line x1=\"455\" y1=\"0\" x2=\"455\" y2=\"20\" style=\"stroke:#1624ff;stroke-width:3;\" /><line x1=\"456\" y1=\"0\" x2=\"456\" y2=\"20\" style=\"stroke:#1623ff;stroke-width:3;\" /><line x1=\"457\" y1=\"0\" x2=\"457\" y2=\"20\" style=\"stroke:#1523ff;stroke-width:3;\" /><line x1=\"458\" y1=\"0\" x2=\"458\" y2=\"20\" style=\"stroke:#1522ff;stroke-width:3;\" /><line x1=\"459\" y1=\"0\" x2=\"459\" y2=\"20\" style=\"stroke:#1422ff;stroke-width:3;\" /><line x1=\"460\" y1=\"0\" x2=\"460\" y2=\"20\" style=\"stroke:#1421ff;stroke-width:3;\" /><line x1=\"461\" y1=\"0\" x2=\"461\" y2=\"20\" style=\"stroke:#1321ff;stroke-width:3;\" /><line x1=\"462\" y1=\"0\" x2=\"462\" y2=\"20\" style=\"stroke:#1220ff;stroke-width:3;\" /><line x1=\"463\" y1=\"0\" x2=\"463\" y2=\"20\" style=\"stroke:#1220ff;stroke-width:3;\" /><line x1=\"464\" y1=\"0\" x2=\"464\" y2=\"20\" style=\"stroke:#111fff;stroke-width:3;\" /><line x1=\"465\" y1=\"0\" x2=\"465\" y2=\"20\" style=\"stroke:#111fff;stroke-width:3;\" /><line x1=\"466\" y1=\"0\" x2=\"466\" y2=\"20\" style=\"stroke:#101eff;stroke-width:3;\" /><line x1=\"467\" y1=\"0\" x2=\"467\" y2=\"20\" style=\"stroke:#101eff;stroke-width:3;\" /><line x1=\"468\" y1=\"0\" x2=\"468\" y2=\"20\" style=\"stroke:#0f1eff;stroke-width:3;\" /><line x1=\"469\" y1=\"0\" x2=\"469\" y2=\"20\" style=\"stroke:#0f1dff;stroke-width:3;\" /><line x1=\"470\" y1=\"0\" x2=\"470\" y2=\"20\" style=\"stroke:#0e1dff;stroke-width:3;\" /><line x1=\"471\" y1=\"0\" x2=\"471\" y2=\"20\" style=\"stroke:#0e1cff;stroke-width:3;\" /><line x1=\"472\" y1=\"0\" x2=\"472\" y2=\"20\" style=\"stroke:#0d1cff;stroke-width:3;\" /><line x1=\"473\" y1=\"0\" x2=\"473\" y2=\"20\" style=\"stroke:#0d1bff;stroke-width:3;\" /><line x1=\"474\" y1=\"0\" x2=\"474\" y2=\"20\" style=\"stroke:#0c1bff;stroke-width:3;\" /><line x1=\"475\" y1=\"0\" x2=\"475\" y2=\"20\" style=\"stroke:#0c1aff;stroke-width:3;\" /><line x1=\"476\" y1=\"0\" x2=\"476\" y2=\"20\" style=\"stroke:#0b1aff;stroke-width:3;\" /><line x1=\"477\" y1=\"0\" x2=\"477\" y2=\"20\" style=\"stroke:#0b19ff;stroke-width:3;\" /><line x1=\"478\" y1=\"0\" x2=\"478\" y2=\"20\" style=\"stroke:#0a19ff;stroke-width:3;\" /><line x1=\"479\" y1=\"0\" x2=\"479\" y2=\"20\" style=\"stroke:#0a18ff;stroke-width:3;\" /><line x1=\"480\" y1=\"0\" x2=\"480\" y2=\"20\" style=\"stroke:#0918ff;stroke-width:3;\" /><line x1=\"481\" y1=\"0\" x2=\"481\" y2=\"20\" style=\"stroke:#0917ff;stroke-width:3;\" /><line x1=\"482\" y1=\"0\" x2=\"482\" y2=\"20\" style=\"stroke:#0817ff;stroke-width:3;\" /><line x1=\"483\" y1=\"0\" x2=\"483\" y2=\"20\" style=\"stroke:#0816ff;stroke-width:3;\" /><line x1=\"484\" y1=\"0\" x2=\"484\" y2=\"20\" style=\"stroke:#0716ff;stroke-width:3;\" /><line x1=\"485\" y1=\"0\" x2=\"485\" y2=\"20\" style=\"stroke:#0715ff;stroke-width:3;\" /><line x1=\"486\" y1=\"0\" x2=\"486\" y2=\"20\" style=\"stroke:#0615ff;stroke-width:3;\" /><line x1=\"487\" y1=\"0\" x2=\"487\" y2=\"20\" style=\"stroke:#0614ff;stroke-width:3;\" /><line x1=\"488\" y1=\"0\" x2=\"488\" y2=\"20\" style=\"stroke:#0514ff;stroke-width:3;\" /><line x1=\"489\" y1=\"0\" x2=\"489\" y2=\"20\" style=\"stroke:#0513ff;stroke-width:3;\" /><line x1=\"490\" y1=\"0\" x2=\"490\" y2=\"20\" style=\"stroke:#0413ff;stroke-width:3;\" /><line x1=\"491\" y1=\"0\" x2=\"491\" y2=\"20\" style=\"stroke:#0412ff;stroke-width:3;\" /><line x1=\"492\" y1=\"0\" x2=\"492\" y2=\"20\" style=\"stroke:#0312ff;stroke-width:3;\" /><line x1=\"493\" y1=\"0\" x2=\"493\" y2=\"20\" style=\"stroke:#0311ff;stroke-width:3;\" /><line x1=\"494\" y1=\"0\" x2=\"494\" y2=\"20\" style=\"stroke:#0211ff;stroke-width:3;\" /><line x1=\"495\" y1=\"0\" x2=\"495\" y2=\"20\" style=\"stroke:#0210ff;stroke-width:3;\" /><line x1=\"496\" y1=\"0\" x2=\"496\" y2=\"20\" style=\"stroke:#0110ff;stroke-width:3;\" /><line x1=\"497\" y1=\"0\" x2=\"497\" y2=\"20\" style=\"stroke:#0110ff;stroke-width:3;\" /><line x1=\"498\" y1=\"0\" x2=\"498\" y2=\"20\" style=\"stroke:#000fff;stroke-width:3;\" /><line x1=\"499\" y1=\"0\" x2=\"499\" y2=\"20\" style=\"stroke:#000fff;stroke-width:3;\" /><text x=\"0\" y=\"35\">2054</text><text x=\"500\" y=\"35\" style=\"text-anchor:end;\">12504</text></svg>"
      ],
      "text/plain": [
       "<branca.colormap.LinearColormap at 0x7f0fa8f1c470>"
      ]
     },
     "execution_count": 6,
     "metadata": {},
     "output_type": "execute_result"
    }
   ],
   "source": [
    "from branca.colormap import LinearColormap\n",
    "colorscale1 = LinearColormap(['#FFFFFF', '#000FFF'], vmin=bng_IC['Population'].min()-1000, vmax=bng_IC['Population'].max())\n",
    "colorscale1"
   ]
  },
  {
   "cell_type": "code",
   "execution_count": 7,
   "metadata": {},
   "outputs": [],
   "source": [
    "# # Create connection to database with psycopg2 module (update params according your db)\n",
    "connection = psycopg2.connect(host='127.0.0.1', port=5432, dbname='cyvorgz', user='cyvorgz')\n",
    "# # Cursor is needed when you need to insert or make changes to the database (i.e. creating a table, index, etc)\n",
    "cursor = connection.cursor()\n",
    "# # Specify sql query"
   ]
  },
  {
   "cell_type": "code",
   "execution_count": 8,
   "metadata": {},
   "outputs": [],
   "source": [
    "\n",
    "sql = \"SELECT * FROM LINES\"\n",
    "# # replace this value with the column name of the geometry of your table\n",
    "# geometry_col_name = 'way'\n",
    "# # Read data from PostGIS \n",
    "# # specify the geom_col parameter if the geometry column is not called 'geom' in your table\n",
    "ls = gpd.read_postgis(sql=sql, con=connection, geom_col='wkb_geometry', crs=4326)"
   ]
  },
  {
   "cell_type": "code",
   "execution_count": 9,
   "metadata": {},
   "outputs": [
    {
     "name": "stderr",
     "output_type": "stream",
     "text": [
      "/home/cyvorgz/anaconda2/envs/gsa3/lib/python3.6/site-packages/pandas/core/indexing.py:576: SettingWithCopyWarning: \n",
      "A value is trying to be set on a copy of a slice from a DataFrame.\n",
      "Try using .loc[row_indexer,col_indexer] = value instead\n",
      "\n",
      "See the caveats in the documentation: http://pandas.pydata.org/pandas-docs/stable/user_guide/indexing.html#returning-a-view-versus-a-copy\n",
      "  self.obj[item_labels[indexer[info_axis]]] = value\n",
      "/home/cyvorgz/anaconda2/envs/gsa3/lib/python3.6/site-packages/geopandas/tools/sjoin.py:44: UserWarning: CRS of frames being joined does not match!\n",
      "  warn('CRS of frames being joined does not match!')\n"
     ]
    }
   ],
   "source": [
    "import numpy as np\n",
    "from branca.colormap import LinearColormap\n",
    "ph_IC.loc[:, 'geometry'] = ph_IC['geometry'].simplify(0.001, preserve_topology=True) # ST_SimplifyPreserveTopology\n",
    "ls['geometry'] = ls['wkb_geometry']\n",
    "ic_streets = gpd.sjoin(ls,ph_IC, op='within',)\n",
    "ic_streets['car_density'] = np.random.randint(0,50,  ic_streets.shape[0])\n",
    "ic_streets = ic_streets[['name','geometry','car_density','other_tags']]\n",
    "ic_gdf = ic_streets[['name','geometry','car_density','other_tags']]\n",
    "colorscale = LinearColormap(['#33f284', '#000000'], vmin=ic_gdf['car_density'].min(), vmax=ic_gdf['car_density'].max())"
   ]
  },
  {
   "cell_type": "code",
   "execution_count": 10,
   "metadata": {},
   "outputs": [],
   "source": [
    "# ic_streets[ic_streets.car_density == 10]"
   ]
  },
  {
   "cell_type": "code",
   "execution_count": 11,
   "metadata": {},
   "outputs": [
    {
     "data": {
      "text/html": [
       "<div>\n",
       "<style scoped>\n",
       "    .dataframe tbody tr th:only-of-type {\n",
       "        vertical-align: middle;\n",
       "    }\n",
       "\n",
       "    .dataframe tbody tr th {\n",
       "        vertical-align: top;\n",
       "    }\n",
       "\n",
       "    .dataframe thead th {\n",
       "        text-align: right;\n",
       "    }\n",
       "</style>\n",
       "<table border=\"1\" class=\"dataframe\">\n",
       "  <thead>\n",
       "    <tr style=\"text-align: right;\">\n",
       "      <th></th>\n",
       "      <th>name</th>\n",
       "      <th>geometry</th>\n",
       "      <th>car_density</th>\n",
       "      <th>other_tags</th>\n",
       "    </tr>\n",
       "  </thead>\n",
       "  <tbody>\n",
       "    <tr>\n",
       "      <th>22864</th>\n",
       "      <td>Iligan-Misamis Oriental</td>\n",
       "      <td>LINESTRING (124.2465589 8.3229966, 124.2593193...</td>\n",
       "      <td>3</td>\n",
       "      <td>\"admin_level\"=&gt;\"3\",\"boundary\"=&gt;\"administrative\"</td>\n",
       "    </tr>\n",
       "    <tr>\n",
       "      <th>35433</th>\n",
       "      <td>Tino Badelles</td>\n",
       "      <td>LINESTRING (124.2375505 8.227547899999999, 124...</td>\n",
       "      <td>0</td>\n",
       "      <td>\"oneway\"=&gt;\"no\"</td>\n",
       "    </tr>\n",
       "    <tr>\n",
       "      <th>35451</th>\n",
       "      <td>Macapagal Road</td>\n",
       "      <td>LINESTRING (124.2061649 8.2042865, 124.2059826...</td>\n",
       "      <td>41</td>\n",
       "      <td>\"ref\"=&gt;\"9\",\"oneway\"=&gt;\"yes\",\"source:ref\"=&gt;\"dpwh\"</td>\n",
       "    </tr>\n",
       "    <tr>\n",
       "      <th>35467</th>\n",
       "      <td>None</td>\n",
       "      <td>LINESTRING (124.2437411 8.2079252, 124.2440465...</td>\n",
       "      <td>9</td>\n",
       "      <td>None</td>\n",
       "    </tr>\n",
       "    <tr>\n",
       "      <th>35468</th>\n",
       "      <td>Roxas Avenue</td>\n",
       "      <td>LINESTRING (124.2412702 8.221997999999999, 124...</td>\n",
       "      <td>4</td>\n",
       "      <td>\"lanes\"=&gt;\"2\",\"maxspeed\"=&gt;\"20\",\"ref\"=&gt;\"9\",\"sour...</td>\n",
       "    </tr>\n",
       "  </tbody>\n",
       "</table>\n",
       "</div>"
      ],
      "text/plain": [
       "                          name  \\\n",
       "22864  Iligan-Misamis Oriental   \n",
       "35433            Tino Badelles   \n",
       "35451           Macapagal Road   \n",
       "35467                     None   \n",
       "35468             Roxas Avenue   \n",
       "\n",
       "                                                geometry  car_density  \\\n",
       "22864  LINESTRING (124.2465589 8.3229966, 124.2593193...            3   \n",
       "35433  LINESTRING (124.2375505 8.227547899999999, 124...            0   \n",
       "35451  LINESTRING (124.2061649 8.2042865, 124.2059826...           41   \n",
       "35467  LINESTRING (124.2437411 8.2079252, 124.2440465...            9   \n",
       "35468  LINESTRING (124.2412702 8.221997999999999, 124...            4   \n",
       "\n",
       "                                              other_tags  \n",
       "22864    \"admin_level\"=>\"3\",\"boundary\"=>\"administrative\"  \n",
       "35433                                     \"oneway\"=>\"no\"  \n",
       "35451    \"ref\"=>\"9\",\"oneway\"=>\"yes\",\"source:ref\"=>\"dpwh\"  \n",
       "35467                                               None  \n",
       "35468  \"lanes\"=>\"2\",\"maxspeed\"=>\"20\",\"ref\"=>\"9\",\"sour...  "
      ]
     },
     "execution_count": 11,
     "metadata": {},
     "output_type": "execute_result"
    }
   ],
   "source": [
    "crs = {'init': 'epsg:4326'}\n",
    "\n",
    "# Create the GeoDataFrame from the DataFrame\n",
    "ic_gdf = gpd.GeoDataFrame(ic_gdf, crs=crs, geometry='geometry')\n",
    "ic_gdf.head()"
   ]
  },
  {
   "cell_type": "code",
   "execution_count": 12,
   "metadata": {},
   "outputs": [],
   "source": [
    "def get_color(feature):\n",
    "    val = feature['properties']['car_density']\n",
    "    if not val:\n",
    "        return '#000000'\n",
    "    return colorscale(val)"
   ]
  },
  {
   "cell_type": "code",
   "execution_count": 13,
   "metadata": {},
   "outputs": [],
   "source": [
    "def get_color1(feature):\n",
    "    val = feature['properties']['Population']\n",
    "    if not val:\n",
    "        return '#000000'\n",
    "    return colorscale1(val)"
   ]
  },
  {
   "cell_type": "code",
   "execution_count": 14,
   "metadata": {},
   "outputs": [],
   "source": [
    "\n",
    "sql = \"SELECT * FROM POINTS\"\n",
    "# # replace this value with the column name of the geometry of your table\n",
    "# geometry_col_name = 'way'\n",
    "# # Read data from PostGIS \n",
    "# # specify the geom_col parameter if the geometry column is not called 'geom' in your table\n",
    "ps = gpd.read_postgis(sql=sql, con=connection, geom_col='wkb_geometry', crs=4326)"
   ]
  },
  {
   "cell_type": "code",
   "execution_count": 15,
   "metadata": {},
   "outputs": [],
   "source": [
    "ps['geometry'] = ps['wkb_geometry']\n",
    "ic_points = gpd.sjoin(ps,ph_IC, op='within',)\n",
    "# ic_p['car_density'] = np.random.randint(0,50,  ic_streets.shape[0])\n",
    "ic_points = ic_points[['name','geometry']]\n",
    "ic_points = ic_points[['name','geometry']]\n",
    "# colorscale = LinearColormap(['#33f284', '#000000'], vmin=ic_gdf['car_density'].min(), vmax=ic_gdf['car_density'].max())"
   ]
  },
  {
   "cell_type": "code",
   "execution_count": 16,
   "metadata": {},
   "outputs": [],
   "source": [
    "crs = {'init': 'epsg:4326'}\n",
    "\n",
    "# Create the GeoDataFrame from the DataFrame\n",
    "ic_points = gpd.GeoDataFrame(ic_points, crs=crs, geometry='geometry')\n"
   ]
  },
  {
   "cell_type": "code",
   "execution_count": 17,
   "metadata": {},
   "outputs": [],
   "source": [
    "# ic_points = ic_points[ic_points.name.notnull()]"
   ]
  },
  {
   "cell_type": "code",
   "execution_count": 18,
   "metadata": {},
   "outputs": [
    {
     "data": {
      "text/html": [
       "<div>\n",
       "<style scoped>\n",
       "    .dataframe tbody tr th:only-of-type {\n",
       "        vertical-align: middle;\n",
       "    }\n",
       "\n",
       "    .dataframe tbody tr th {\n",
       "        vertical-align: top;\n",
       "    }\n",
       "\n",
       "    .dataframe thead th {\n",
       "        text-align: right;\n",
       "    }\n",
       "</style>\n",
       "<table border=\"1\" class=\"dataframe\">\n",
       "  <thead>\n",
       "    <tr style=\"text-align: right;\">\n",
       "      <th></th>\n",
       "      <th>name</th>\n",
       "      <th>geometry</th>\n",
       "    </tr>\n",
       "  </thead>\n",
       "  <tbody>\n",
       "    <tr>\n",
       "      <th>11909</th>\n",
       "      <td>Mount Inayao</td>\n",
       "      <td>POINT (124.483333 8.316667000000001)</td>\n",
       "    </tr>\n",
       "    <tr>\n",
       "      <th>12583</th>\n",
       "      <td>Mount Sagada</td>\n",
       "      <td>POINT (124.416667 8.200000000000001)</td>\n",
       "    </tr>\n",
       "    <tr>\n",
       "      <th>13543</th>\n",
       "      <td>Junction to Barangay Suarez</td>\n",
       "      <td>POINT (124.2089263 8.2054613)</td>\n",
       "    </tr>\n",
       "    <tr>\n",
       "      <th>32995</th>\n",
       "      <td>None</td>\n",
       "      <td>POINT (124.2368362 8.2267715)</td>\n",
       "    </tr>\n",
       "    <tr>\n",
       "      <th>38259</th>\n",
       "      <td>None</td>\n",
       "      <td>POINT (124.2448231 8.239747300000001)</td>\n",
       "    </tr>\n",
       "    <tr>\n",
       "      <th>...</th>\n",
       "      <td>...</td>\n",
       "      <td>...</td>\n",
       "    </tr>\n",
       "    <tr>\n",
       "      <th>307378</th>\n",
       "      <td>Dulag</td>\n",
       "      <td>POINT (124.3894438 8.1995919)</td>\n",
       "    </tr>\n",
       "    <tr>\n",
       "      <th>307379</th>\n",
       "      <td>None</td>\n",
       "      <td>POINT (124.3882155 8.301121800000001)</td>\n",
       "    </tr>\n",
       "    <tr>\n",
       "      <th>307380</th>\n",
       "      <td>None</td>\n",
       "      <td>POINT (124.3847018 8.333168800000001)</td>\n",
       "    </tr>\n",
       "    <tr>\n",
       "      <th>308971</th>\n",
       "      <td>Pr Frank Tameta Residence</td>\n",
       "      <td>POINT (124.2748662 8.229588600000001)</td>\n",
       "    </tr>\n",
       "    <tr>\n",
       "      <th>308972</th>\n",
       "      <td>United Pentecostal Church</td>\n",
       "      <td>POINT (124.2456437 8.221101000000001)</td>\n",
       "    </tr>\n",
       "  </tbody>\n",
       "</table>\n",
       "<p>1620 rows × 2 columns</p>\n",
       "</div>"
      ],
      "text/plain": [
       "                               name                               geometry\n",
       "11909                  Mount Inayao   POINT (124.483333 8.316667000000001)\n",
       "12583                  Mount Sagada   POINT (124.416667 8.200000000000001)\n",
       "13543   Junction to Barangay Suarez          POINT (124.2089263 8.2054613)\n",
       "32995                          None          POINT (124.2368362 8.2267715)\n",
       "38259                          None  POINT (124.2448231 8.239747300000001)\n",
       "...                             ...                                    ...\n",
       "307378                        Dulag          POINT (124.3894438 8.1995919)\n",
       "307379                         None  POINT (124.3882155 8.301121800000001)\n",
       "307380                         None  POINT (124.3847018 8.333168800000001)\n",
       "308971    Pr Frank Tameta Residence  POINT (124.2748662 8.229588600000001)\n",
       "308972    United Pentecostal Church  POINT (124.2456437 8.221101000000001)\n",
       "\n",
       "[1620 rows x 2 columns]"
      ]
     },
     "execution_count": 18,
     "metadata": {},
     "output_type": "execute_result"
    }
   ],
   "source": [
    "ic_points"
   ]
  },
  {
   "cell_type": "markdown",
   "metadata": {},
   "source": [
    "### Testing the Search"
   ]
  },
  {
   "cell_type": "code",
   "execution_count": null,
   "metadata": {},
   "outputs": [],
   "source": []
  },
  {
   "cell_type": "code",
   "execution_count": null,
   "metadata": {},
   "outputs": [],
   "source": []
  },
  {
   "cell_type": "code",
   "execution_count": 19,
   "metadata": {},
   "outputs": [],
   "source": [
    "### Routing"
   ]
  },
  {
   "cell_type": "code",
   "execution_count": 20,
   "metadata": {},
   "outputs": [],
   "source": [
    "import numpy as np\n",
    "import osmnx as ox\n",
    "import networkx as nx\n",
    "from sklearn.neighbors import KDTree"
   ]
  },
  {
   "cell_type": "code",
   "execution_count": 21,
   "metadata": {},
   "outputs": [],
   "source": [
    "IC_poly = ph_IC['geometry'][793]"
   ]
  },
  {
   "cell_type": "code",
   "execution_count": 22,
   "metadata": {},
   "outputs": [],
   "source": [
    "IC_graph = ox.graph_from_polygon(IC_poly)"
   ]
  },
  {
   "cell_type": "code",
   "execution_count": 23,
   "metadata": {},
   "outputs": [],
   "source": [
    "# ic_gdf.head()"
   ]
  },
  {
   "cell_type": "code",
   "execution_count": 24,
   "metadata": {},
   "outputs": [],
   "source": [
    "# ox.graph_from_polygon(ic_gdf)\n",
    "# ox."
   ]
  },
  {
   "cell_type": "code",
   "execution_count": 25,
   "metadata": {},
   "outputs": [
    {
     "data": {
      "image/png": "[encoded data removed]",
      "text/plain": [
       "<Figure size 864x864 with 1 Axes>"
      ]
     },
     "metadata": {},
     "output_type": "display_data"
    },
    {
     "data": {
      "text/plain": [
       "(<Figure size 864x864 with 1 Axes>,\n",
       " <matplotlib.axes._subplots.AxesSubplot at 0x7f0f7ea855f8>)"
      ]
     },
     "execution_count": 25,
     "metadata": {},
     "output_type": "execute_result"
    }
   ],
   "source": [
    "ox.plot_graph(IC_graph, fig_height=12, fig_width=12, edge_color=\"black\")"
   ]
  },
  {
   "cell_type": "code",
   "execution_count": 26,
   "metadata": {},
   "outputs": [],
   "source": [
    "red = [8.2261,124.2518]\n",
    "# blue = [8.2190,124.2386]"
   ]
  },
  {
   "cell_type": "code",
   "execution_count": 27,
   "metadata": {},
   "outputs": [],
   "source": [
    "nodes, _ = ox.graph_to_gdfs(IC_graph)\n",
    "tree = KDTree(nodes[['y', 'x']], metric='euclidean')\n",
    "red_idx = tree.query([red], k=3, return_distance=False)[0]\n",
    "# blue_idx = tree.query([blue], k=3, return_distance=False)[0]\n",
    "closest_node_to_red= nodes.iloc[red_idx].index.values[0]\n",
    "# closest_node_to_blue = nodes.iloc[blue_idx].index.values[0]"
   ]
  },
  {
   "cell_type": "code",
   "execution_count": 28,
   "metadata": {},
   "outputs": [
    {
     "data": {
      "text/plain": [
       "8.316667"
      ]
     },
     "execution_count": 28,
     "metadata": {},
     "output_type": "execute_result"
    }
   ],
   "source": [
    "ic_points.iloc[0,1].y"
   ]
  },
  {
   "cell_type": "code",
   "execution_count": 29,
   "metadata": {},
   "outputs": [],
   "source": [
    "lst_points = list(ic_points['geometry'])"
   ]
  },
  {
   "cell_type": "code",
   "execution_count": 30,
   "metadata": {},
   "outputs": [],
   "source": [
    "# for i in lst_points:\n",
    "#     i."
   ]
  },
  {
   "cell_type": "code",
   "execution_count": 31,
   "metadata": {},
   "outputs": [],
   "source": [
    "lst_closest = []\n",
    "\n",
    "for i in lst_points:\n",
    "    temp_lst = [i.y,i.x]\n",
    "    idx = tree.query([temp_lst], k=3, return_distance=False)[0]\n",
    "    lst_closest.append(nodes.iloc[idx].index.values[0])"
   ]
  },
  {
   "cell_type": "code",
   "execution_count": 32,
   "metadata": {},
   "outputs": [],
   "source": [
    "routes = []\n",
    "\n",
    "for point in  lst_closest:\n",
    "    \n",
    "    routes.append(nx.dijkstra_path(IC_graph,closest_node_to_red,point))"
   ]
  },
  {
   "cell_type": "code",
   "execution_count": 33,
   "metadata": {},
   "outputs": [],
   "source": [
    "# routes = nx.single_source_shortest_path(IC_graph, closest_node_to_red)                   \n",
    "# for i in lst_all_routes[::-1]:\n",
    "#     ox.plot_graph_route(IC_graph, i, \n",
    "#                               edge_color=\"black\",\n",
    "#                               orig_dest_node_color=\"green\",\n",
    "#                               route_color=\"green\")\n",
    "#     #                               orig_dest_node_color=\"green\",\n",
    "#     #                               route_color=\"green\")\n",
    "# ax.scatter(red[1], red[0], c=\"red\", s=100)\n",
    "# # ax.scatter(blue[1], blue[0], c=\"blue\", s=100)\n",
    "# plt.show()"
   ]
  },
  {
   "cell_type": "code",
   "execution_count": 34,
   "metadata": {},
   "outputs": [],
   "source": [
    "# routes"
   ]
  },
  {
   "cell_type": "code",
   "execution_count": 35,
   "metadata": {},
   "outputs": [
    {
     "ename": "AttributeError",
     "evalue": "'list' object has no attribute 'keys'",
     "output_type": "error",
     "traceback": [
      "\u001b[0;31m---------------------------------------------------------------------------\u001b[0m",
      "\u001b[0;31mAttributeError\u001b[0m                            Traceback (most recent call last)",
      "\u001b[0;32m<ipython-input-35-dc61403efa3b>\u001b[0m in \u001b[0;36m<module>\u001b[0;34m\u001b[0m\n\u001b[1;32m      1\u001b[0m \u001b[0mlst_all_routes\u001b[0m \u001b[0;34m=\u001b[0m \u001b[0;34m[\u001b[0m\u001b[0;34m]\u001b[0m\u001b[0;34m\u001b[0m\u001b[0m\n\u001b[1;32m      2\u001b[0m \u001b[0;34m\u001b[0m\u001b[0m\n\u001b[0;32m----> 3\u001b[0;31m \u001b[0;32mfor\u001b[0m \u001b[0mkey\u001b[0m \u001b[0;32min\u001b[0m \u001b[0mroutes\u001b[0m\u001b[0;34m.\u001b[0m\u001b[0mkeys\u001b[0m\u001b[0;34m(\u001b[0m\u001b[0;34m)\u001b[0m\u001b[0;34m:\u001b[0m\u001b[0;34m\u001b[0m\u001b[0m\n\u001b[0m\u001b[1;32m      4\u001b[0m     \u001b[0mlst_all_routes\u001b[0m\u001b[0;34m.\u001b[0m\u001b[0mappend\u001b[0m\u001b[0;34m(\u001b[0m\u001b[0mroutes\u001b[0m\u001b[0;34m[\u001b[0m\u001b[0mkey\u001b[0m\u001b[0;34m]\u001b[0m\u001b[0;34m)\u001b[0m\u001b[0;34m\u001b[0m\u001b[0m\n",
      "\u001b[0;31mAttributeError\u001b[0m: 'list' object has no attribute 'keys'"
     ]
    }
   ],
   "source": [
    "lst_all_routes = []\n",
    "\n",
    "for key in routes.keys():\n",
    "    lst_all_routes.append(routes[key])"
   ]
  },
  {
   "cell_type": "code",
   "execution_count": null,
   "metadata": {},
   "outputs": [],
   "source": [
    "# import matplotlib.pyplot as plt\n",
    "# fig, ax = ox.plot_graph(IC_graph, fig_height=10, fig_width=10, \n",
    "#                         show=False, close=False, \n",
    "#                         edge_color=\"black\")\n",
    "# ax.scatter(red[1],red[0], c=\"red\", s=100)\n",
    "# ax.scatter(blue[1],blue[0], c=\"blue\", s=100)\n",
    "# plt.show()"
   ]
  },
  {
   "cell_type": "code",
   "execution_count": null,
   "metadata": {},
   "outputs": [],
   "source": [
    "# nodes, _ = ox.graph_to_gdfs(IC_graph)\n",
    "# nodes.head()"
   ]
  },
  {
   "cell_type": "code",
   "execution_count": null,
   "metadata": {},
   "outputs": [],
   "source": [
    "# ic_streets.head(5)"
   ]
  },
  {
   "cell_type": "code",
   "execution_count": null,
   "metadata": {},
   "outputs": [],
   "source": [
    "# line = LineString(ic_streets.geometry[35468])\n",
    "\n",
    "# red_pt = Point(124.24127 ,8.221997)\n",
    "# # 124.203149\t8.171786\n",
    "# line.distance(red_pt)"
   ]
  },
  {
   "cell_type": "code",
   "execution_count": null,
   "metadata": {},
   "outputs": [],
   "source": [
    "def get_car_density(pt):\n",
    "    lst = []\n",
    "    for indx in ic_streets.index:\n",
    "        line = ic_streets.geometry[indx]\n",
    "        if line.distance(pt) < 1e-5 :\n",
    "            lst.append(ic_streets.car_density[indx])\n",
    "    try:\n",
    "        return max(lst)\n",
    "    except:\n",
    "        return 0"
   ]
  },
  {
   "cell_type": "code",
   "execution_count": null,
   "metadata": {},
   "outputs": [],
   "source": [
    "# tree = KDTree(nodes[['y', 'x']], metric='euclidean')\n",
    "# red_idx = tree.query([red], k=3, return_distance=False)[0]\n",
    "# blue_idx = tree.query([blue], k=3, return_distance=False)[0]\n",
    "# closest_node_to_red= nodes.iloc[red_idx].index.values[0]\n",
    "# closest_node_to_blue = nodes.iloc[blue_idx].index.values[0]"
   ]
  },
  {
   "cell_type": "code",
   "execution_count": null,
   "metadata": {},
   "outputs": [],
   "source": []
  },
  {
   "cell_type": "code",
   "execution_count": null,
   "metadata": {},
   "outputs": [],
   "source": [
    "nodes['car_density'] = nodes['geometry'].apply(lambda x: get_car_density(x))"
   ]
  },
  {
   "cell_type": "code",
   "execution_count": null,
   "metadata": {},
   "outputs": [],
   "source": [
    "# nodes.head()"
   ]
  },
  {
   "cell_type": "code",
   "execution_count": null,
   "metadata": {},
   "outputs": [],
   "source": [
    "lst_source = []\n",
    "lst_target = []\n",
    "for i in list(IC_graph.edges()):\n",
    "    lst_source.append(i[0])\n",
    "    lst_target.append(i[1])"
   ]
  },
  {
   "cell_type": "code",
   "execution_count": null,
   "metadata": {},
   "outputs": [],
   "source": [
    "int(nodes[nodes['osmid']==1727291392]['car_density'])"
   ]
  },
  {
   "cell_type": "code",
   "execution_count": null,
   "metadata": {},
   "outputs": [],
   "source": [
    "df = pd.DataFrame({'Source':lst_source,'Target':lst_target})"
   ]
  },
  {
   "cell_type": "code",
   "execution_count": null,
   "metadata": {},
   "outputs": [],
   "source": [
    "df.head()"
   ]
  },
  {
   "cell_type": "code",
   "execution_count": null,
   "metadata": {},
   "outputs": [],
   "source": [
    "def get_edge_cr(source,target):\n",
    "    source_cr = int(nodes[nodes['osmid']==source]['car_density'])\n",
    "    target_cr = int(nodes[nodes['osmid']==target]['car_density'])\n",
    "    cr = (source_cr + target_cr)/2\n",
    "    return cr"
   ]
  },
  {
   "cell_type": "code",
   "execution_count": null,
   "metadata": {},
   "outputs": [],
   "source": [
    "df['Weight'] = df.apply(lambda row: get_edge_cr(row['Source'], row['Target']),axis =1)"
   ]
  },
  {
   "cell_type": "code",
   "execution_count": null,
   "metadata": {},
   "outputs": [],
   "source": [
    "from shapely.geometry import Point, LineString, Polygon\n",
    "p1 = Point(124.2518,8.2261)"
   ]
  },
  {
   "cell_type": "code",
   "execution_count": null,
   "metadata": {},
   "outputs": [],
   "source": [
    "p1"
   ]
  },
  {
   "cell_type": "code",
   "execution_count": null,
   "metadata": {},
   "outputs": [],
   "source": [
    "# ic_points.append(pd.Series(['City Hall', p1], index=ic_points.columns ),ignore_index=True\n",
    "ic_points = ic_points.append({'name':'City Hall', 'geometry':p1} , ignore_index=True)\n",
    "# Add a new row at index position 2 with values provided in list\n",
    "# ic_points.iloc[808] = ['City Hall', p1]"
   ]
  },
  {
   "cell_type": "code",
   "execution_count": null,
   "metadata": {
    "scrolled": true
   },
   "outputs": [],
   "source": [
    "ic_points = ic_points.reset_index()"
   ]
  },
  {
   "cell_type": "code",
   "execution_count": null,
   "metadata": {},
   "outputs": [],
   "source": [
    "ic_points = ic_points[['name','geometry']]"
   ]
  },
  {
   "cell_type": "code",
   "execution_count": null,
   "metadata": {},
   "outputs": [],
   "source": [
    "ic_points"
   ]
  },
  {
   "cell_type": "code",
   "execution_count": null,
   "metadata": {
    "scrolled": true
   },
   "outputs": [],
   "source": [
    "# route = nx.dijkstra_path(IC_graph, closest_node_to_red,\n",
    "#                          closest_node_to_blue)\n",
    "# fig, ax = ox.plot_graph_route(IC_graph, route, fig_height=12, \n",
    "#                               fig_width=12, \n",
    "#                               show=False, close=False, \n",
    "#                               edge_color=\"black\",\n",
    "#                               orig_dest_node_color=\"green\",\n",
    "#                               route_color=\"green\")\n",
    "# ax.scatter(red[1], red[0], c=\"red\", s=100)\n",
    "# ax.scatter(blue[1], blue[0], c=\"blue\", s=100)\n",
    "# plt.show()"
   ]
  },
  {
   "cell_type": "code",
   "execution_count": null,
   "metadata": {},
   "outputs": [],
   "source": [
    "center = [8.2427 ,124.2442] # latlng\n",
    "zoom = 10\n",
    "# m = folium.Map(location=center, zoom_start=zoom, prefer_canvas=True)\n",
    "\n",
    "m = folium.Map(location = center,zoom_start=14)\n",
    "\n",
    "\n",
    "\n",
    "fgb = folium.FeatureGroup(name=\"Barangays\")\n",
    "\n",
    "fgb.add_child(\n",
    "\n",
    "folium.GeoJson(\n",
    "    bng_IC,\n",
    "    name = 'Population',\n",
    "    tooltip=folium.features.GeoJsonTooltip(\n",
    "        fields=['Barangay', 'Population'],\n",
    "        aliases=['Barangay',  'Population']\n",
    "    ),\n",
    "    style_function = lambda feature: {\n",
    "        'fillColor': get_color1(feature),\n",
    "        'color': get_color1(feature),\n",
    "        \n",
    "\n",
    "    }\n",
    ")\n",
    "    \n",
    ")\n",
    "\n",
    "\n",
    "\n",
    "\n",
    "\n",
    "fgp = folium.FeatureGroup(name=\"Streets\")\n",
    "\n",
    "fgp.add_child(\n",
    "\n",
    "folium.GeoJson(\n",
    "    ic_gdf,\n",
    "    name = 'Traffic Congestion',\n",
    "    tooltip=folium.features.GeoJsonTooltip(\n",
    "        fields=['name', 'car_density'],\n",
    "        aliases=['Street Name',  'car_density']\n",
    "    ),\n",
    "    style_function = lambda feature: {\n",
    "        'fillColor': get_color(feature),\n",
    "        'color': get_color(feature),\n",
    "        'weight': 2,\n",
    "\n",
    "    }\n",
    ")\n",
    "    \n",
    ")\n",
    "\n",
    "\n",
    "\n",
    "fgs = folium.FeatureGroup(name=\"Points\")\n",
    "\n",
    "for index, row in ic_points.iterrows():\n",
    "#     print(row['name'])\n",
    "    iframe = folium.IFrame(html= str(row['name']), width=200,height=100)\n",
    "    fgs.add_child(folium.CircleMarker(location=[row['geometry'].y,row['geometry'].x], radius = 5, popup=folium.Popup(iframe),\n",
    "    fill_color='white',  fill_opacity=1,))\n",
    "\n",
    "\n",
    "m.add_child(fgb)\n",
    "m.add_child(fgs)\n",
    "m.add_child(fgp)\n",
    "\n",
    "m.add_child(folium.LayerControl())\n",
    "m.save(\"Map.html\")"
   ]
  },
  {
   "cell_type": "code",
   "execution_count": null,
   "metadata": {},
   "outputs": [],
   "source": [
    "# len(routes)"
   ]
  },
  {
   "cell_type": "code",
   "execution_count": null,
   "metadata": {},
   "outputs": [],
   "source": [
    "for route in routes[:100]:\n",
    "#     print(route)\n",
    "#     print(route)\n",
    "    # route = lst_all_routes[::-1][120]\n",
    "    try:\n",
    "        route_graph_map = ox.plot_route_folium(IC_graph, route, route_map=m, popup_attribute='length')\n",
    "    except:\n",
    "        pass"
   ]
  },
  {
   "cell_type": "code",
   "execution_count": null,
   "metadata": {},
   "outputs": [],
   "source": [
    "route_graph_map.save('Map_Route.html')"
   ]
  },
  {
   "cell_type": "code",
   "execution_count": null,
   "metadata": {},
   "outputs": [],
   "source": []
  },
  {
   "cell_type": "code",
   "execution_count": null,
   "metadata": {},
   "outputs": [],
   "source": [
    "# -*- coding: utf-8 -*-\n",
    "\n",
    "from branca.element import CssLink, Figure, JavascriptLink, MacroElement\n",
    "\n",
    "from jinja2 import Template\n",
    "\n",
    "from folium import Map\n",
    "from folium.features import FeatureGroup, GeoJson, TopoJson\n",
    "from folium.plugins import MarkerCluster\n",
    "from folium.utilities import parse_options\n",
    "\n",
    "\n",
    "class Search(MacroElement):\n",
    "    \"\"\"\n",
    "    Adds a search tool to your map.\n",
    "    Parameters\n",
    "    ----------\n",
    "    layer: GeoJson, TopoJson, FeatureGroup, MarkerCluster class object.\n",
    "        The map layer to index in the Search view.\n",
    "    search_label: str, optional\n",
    "        'properties' key in layer to index Search, if layer is GeoJson/TopoJson.\n",
    "    search_zoom: int, optional\n",
    "        Zoom level to set the map to on match.\n",
    "        By default zooms to Polygon/Line bounds and points\n",
    "        on their natural extent.\n",
    "    geom_type: str, default 'Point'\n",
    "        Feature geometry type. \"Point\", \"Line\" or \"Polygon\"\n",
    "    position: str, default 'topleft'\n",
    "        Change the position of the search bar, can be:\n",
    "        'topleft', 'topright', 'bottomright' or 'bottomleft',\n",
    "    placeholder: str, default 'Search'\n",
    "        Placeholder text inside the Search box if nothing is entered.\n",
    "    collapsed: boolean, default False\n",
    "        Whether the Search box should be collapsed or not.\n",
    "    **kwargs.\n",
    "        Assorted style options to change feature styling on match.\n",
    "        Use the same way as vector layer arguments.\n",
    "    See https://github.com/stefanocudini/leaflet-search for more information.\n",
    "    \"\"\"\n",
    "    _template = Template(\"\"\"\n",
    "        {% macro script(this, kwargs) %}\n",
    "            var {{this.layer.get_name()}}searchControl = new L.Control.Search({\n",
    "                layer: {{this.layer.get_name()}},\n",
    "                {% if this.search_label %}\n",
    "                propertyName: '{{this.search_label}}',\n",
    "                {% endif %}\n",
    "                collapsed: {{this.collapsed|tojson|safe}},\n",
    "                textPlaceholder: '{{this.placeholder}}',\n",
    "            {% if this.geom_type == 'Point' %}\n",
    "                initial: false,\n",
    "                {% if this.search_zoom %}\n",
    "                zoom: {{this.search_zoom}},\n",
    "                {% endif %}\n",
    "                position:'{{this.position}}',\n",
    "                hideMarkerOnCollapse: true\n",
    "            {% else %}\n",
    "                marker: false,\n",
    "                moveToLocation: function(latlng, title, map) {\n",
    "                var zoom = {% if this.search_zoom %} {{ this.search_zoom }} {% else %} map.getBoundsZoom(latlng.layer.getBounds()) {% endif %}\n",
    "                    map.flyTo(latlng, zoom); // access the zoom\n",
    "                }\n",
    "            {% endif %}\n",
    "                });\n",
    "                {{this.layer.get_name()}}searchControl.on('search:locationfound', function(e) {\n",
    "                    {{this.layer.get_name()}}.setStyle(function(feature){\n",
    "                        return feature.properties.style\n",
    "                    })\n",
    "                    {% if this.options %}\n",
    "                    e.layer.setStyle({{ this.options|tojson }});\n",
    "                    {% endif %}\n",
    "                    if(e.layer._popup)\n",
    "                        e.layer.openPopup();\n",
    "                })\n",
    "                {{this.layer.get_name()}}searchControl.on('search:collapsed', function(e) {\n",
    "                        {{this.layer.get_name()}}.setStyle(function(feature){\n",
    "                            return feature.properties.style\n",
    "                    });\n",
    "                });\n",
    "            {{this._parent.get_name()}}.addControl( {{this.layer.get_name()}}searchControl );\n",
    "        {% endmacro %}\n",
    "        \"\"\")  # noqa\n",
    "\n",
    "    def __init__(self, layer, search_label=None, search_zoom=None,\n",
    "                 geom_type='Point', position='topleft', placeholder='Search',\n",
    "                 collapsed=False, **kwargs):\n",
    "        super(Search, self).__init__()\n",
    "        assert isinstance(layer,\n",
    "                          (GeoJson, MarkerCluster, FeatureGroup, TopoJson)\n",
    "                          ), 'Search can only index FeatureGroup, ' \\\n",
    "                             'MarkerCluster, GeoJson, and TopoJson layers at ' \\\n",
    "                             'this time.'\n",
    "        self.layer = layer\n",
    "        self.search_label = search_label\n",
    "        self.search_zoom = search_zoom\n",
    "        self.geom_type = geom_type\n",
    "        self.position = position\n",
    "        self.placeholder = placeholder\n",
    "        self.collapsed = collapsed\n",
    "        self.options = parse_options(**kwargs)\n",
    "\n",
    "    def test_params(self, keys):\n",
    "        if keys is not None and self.search_label is not None:\n",
    "            assert self.search_label in keys, \"The label '{}' was not \" \\\n",
    "                                              \"available in {}\" \\\n",
    "                                              \"\".format(self.search_label, keys)\n",
    "        assert isinstance(self._parent, Map), \"Search can only be added to \" \\\n",
    "                                              \"folium Map objects.\"\n",
    "\n",
    "    def render(self, **kwargs):\n",
    "        if isinstance(self.layer, GeoJson):\n",
    "            keys = tuple(self.layer.data['features'][0]['properties'].keys())\n",
    "        elif isinstance(self.layer, TopoJson):\n",
    "            obj_name = self.layer.object_path.split('.')[-1]\n",
    "            keys = tuple(self.layer.data['objects'][obj_name]['geometries'][0]['properties'].keys())  # noqa\n",
    "        else:\n",
    "            keys = None\n",
    "        self.test_params(keys=keys)\n",
    "        super(Search, self).render()\n",
    "\n",
    "        figure = self.get_root()\n",
    "        assert isinstance(figure, Figure), ('You cannot render this Element '\n",
    "                                            'if it is not in a Figure.')\n",
    "\n",
    "        figure.header.add_child(\n",
    "            JavascriptLink('https://cdn.jsdelivr.net/npm/leaflet-search@2.9.7/dist/leaflet-search.min.js'),  # noqa\n",
    "            name='Leaflet.Search.js'\n",
    "        )\n",
    "\n",
    "        figure.header.add_child(\n",
    "            CssLink('https://cdn.jsdelivr.net/npm/leaflet-search@2.9.7/dist/leaflet-search.min.css'),  # noqa\n",
    "            name='Leaflet.Search.css'\n",
    "        )"
   ]
  },
  {
   "cell_type": "code",
   "execution_count": null,
   "metadata": {},
   "outputs": [],
   "source": [
    "# -*- coding: utf-8 -*-\n",
    "\n",
    "from branca.element import CssLink, Figure, JavascriptLink, MacroElement\n",
    "\n",
    "from jinja2 import Template\n",
    "\n",
    "from folium import Map\n",
    "from folium.features import FeatureGroup, GeoJson, TopoJson\n",
    "from folium.plugins import MarkerCluster\n",
    "from folium.utilities import parse_options\n",
    "\n",
    "\n",
    "class Search1(MacroElement):\n",
    "    \"\"\"\n",
    "    Adds a search tool to your map.\n",
    "    Parameters\n",
    "    ----------\n",
    "    layer: GeoJson, TopoJson, FeatureGroup, MarkerCluster class object.\n",
    "        The map layer to index in the Search view.\n",
    "    search_label: str, optional\n",
    "        'properties' key in layer to index Search, if layer is GeoJson/TopoJson.\n",
    "    search_zoom: int, optional\n",
    "        Zoom level to set the map to on match.\n",
    "        By default zooms to Polygon/Line bounds and points\n",
    "        on their natural extent.\n",
    "    geom_type: str, default 'Point'\n",
    "        Feature geometry type. \"Point\", \"Line\" or \"Polygon\"\n",
    "    position: str, default 'topleft'\n",
    "        Change the position of the search bar, can be:\n",
    "        'topleft', 'topright', 'bottomright' or 'bottomleft',\n",
    "    placeholder: str, default 'Search'\n",
    "        Placeholder text inside the Search box if nothing is entered.\n",
    "    collapsed: boolean, default False\n",
    "        Whether the Search box should be collapsed or not.\n",
    "    **kwargs.\n",
    "        Assorted style options to change feature styling on match.\n",
    "        Use the same way as vector layer arguments.\n",
    "    See https://github.com/stefanocudini/leaflet-search for more information.\n",
    "    \"\"\"\n",
    "    _template = Template(\"\"\"\n",
    "        {% macro script(this, kwargs) %}\n",
    "            var {{this.layer.get_name()}}searchControl = new L.Control.Search({\n",
    "                layer: {{this.layer.get_name()}},\n",
    "                {% if this.search_label %}\n",
    "                propertyName: '{{this.search_label}}',\n",
    "                {% endif %}\n",
    "                collapsed: {{this.collapsed|tojson|safe}},\n",
    "                textPlaceholder: '{{this.placeholder}}',\n",
    "            {% if this.geom_type == 'Point' %}\n",
    "                initial: false,\n",
    "                {% if this.search_zoom %}\n",
    "                zoom: {{this.search_zoom}},\n",
    "                {% endif %}\n",
    "                position:'{{this.position}}',\n",
    "                hideMarkerOnCollapse: true\n",
    "            {% else %}\n",
    "                marker: false,\n",
    "                moveToLocation: function(latlng, title, map) {\n",
    "                    \n",
    "                var zoom = {% if this.search_zoom %} \n",
    "                  \n",
    "                {{ this.search_zoom }} {% else %} \n",
    "                map.getBoundsZoom(latlng.layer.getBounds()) {% endif %}\n",
    "                \n",
    "                    map.flyTo(latlng, zoom); // access the zoom\n",
    "                }\n",
    "            {% endif %}\n",
    "                });\n",
    "                {{this.layer.get_name()}}searchControl.on('search:locationfound', function(e) {\n",
    "                    {{this.layer.get_name()}}.setStyle(function(feature){\n",
    "                        return feature.properties.style\n",
    "                    })\n",
    "                    {% if this.options %}\n",
    "                    e.layer.setStyle({{ this.options|tojson }});\n",
    "                    {% endif %}\n",
    "                    if(e.layer._popup)\n",
    "                        e.layer.openPopup();\n",
    "                })\n",
    "                {{this.layer.get_name()}}searchControl.on('search:collapsed', function(e) {\n",
    "                        {{this.layer.get_name()}}.setStyle(function(feature){\n",
    "                            return feature.properties.style\n",
    "                    });\n",
    "                });\n",
    "            {{this._parent.get_name()}}.addControl( {{this.layer.get_name()}}searchControl );\n",
    "        {% endmacro %}\n",
    "        \"\"\")  # noqa\n",
    "\n",
    "    def __init__(self, layer, search_label=None, search_zoom=None,\n",
    "                 geom_type='Point', position='topleft', placeholder='Search',\n",
    "                 collapsed=False, **kwargs):\n",
    "        super(Search1, self).__init__()\n",
    "        assert isinstance(layer,\n",
    "                          (GeoJson, MarkerCluster, FeatureGroup, TopoJson)\n",
    "                          ), 'Search can only index FeatureGroup, ' \\\n",
    "                             'MarkerCluster, GeoJson, and TopoJson layers at ' \\\n",
    "                             'this time.'\n",
    "        self.layer = layer\n",
    "        self.search_label = search_label\n",
    "        self.search_zoom = search_zoom\n",
    "        self.geom_type = geom_type\n",
    "        self.position = position\n",
    "        self.placeholder = placeholder\n",
    "        self.collapsed = collapsed\n",
    "        self.options = parse_options(**kwargs)\n",
    "\n",
    "    def test_params(self, keys):\n",
    "        if keys is not None and self.search_label is not None:\n",
    "            assert self.search_label in keys, \"The label '{}' was not \" \\\n",
    "                                              \"available in {}\" \\\n",
    "                                              \"\".format(self.search_label, keys)\n",
    "        assert isinstance(self._parent, Map), \"Search can only be added to \" \\\n",
    "                                              \"folium Map objects.\"\n",
    "\n",
    "    def render(self, **kwargs):\n",
    "        if isinstance(self.layer, GeoJson):\n",
    "            keys = tuple(self.layer.data['features'][0]['properties'].keys())\n",
    "        elif isinstance(self.layer, TopoJson):\n",
    "            obj_name = self.layer.object_path.split('.')[-1]\n",
    "            keys = tuple(self.layer.data['objects'][obj_name]['geometries'][0]['properties'].keys())  # noqa\n",
    "        else:\n",
    "            keys = None\n",
    "        self.test_params(keys=keys)\n",
    "        super(Search1, self).render()\n",
    "\n",
    "        figure = self.get_root()\n",
    "        assert isinstance(figure, Figure), ('You cannot render this Element '\n",
    "                                            'if it is not in a Figure.')\n",
    "\n",
    "        figure.header.add_child(\n",
    "            JavascriptLink('https://cdn.jsdelivr.net/npm/leaflet-search@2.9.7/dist/leaflet-search.min.js'),  # noqa\n",
    "            name='Leaflet.Search.js'\n",
    "        )\n",
    "\n",
    "        figure.header.add_child(\n",
    "            CssLink('https://cdn.jsdelivr.net/npm/leaflet-search@2.9.7/dist/leaflet-search.min.css'),  # noqa\n",
    "            name='Leaflet.Search.css'\n",
    "        )"
   ]
  },
  {
   "cell_type": "code",
   "execution_count": 36,
   "metadata": {},
   "outputs": [],
   "source": [
    "import folium\n",
    "from folium import plugins\n",
    "from folium.plugins import Search\n",
    "\n",
    "\n",
    "center = [8.2427 ,124.2442] # latlng\n",
    "zoom = 10\n",
    "# m = folium.Map(location=center, zoom_start=zoom, prefer_canvas=True)\n",
    "\n",
    "m = folium.Map(location = center,zoom_start=14)\n",
    "\n",
    "\n",
    "\n",
    "fgb = folium.FeatureGroup(name=\"Barangays\", show = False)\n",
    "\n",
    "fgb.add_child(\n",
    "\n",
    "folium.GeoJson(\n",
    "    bng_IC,\n",
    "    name = 'Population',\n",
    "    tooltip=folium.features.GeoJsonTooltip(\n",
    "        fields=['Barangay', 'Population'],\n",
    "        aliases=['Barangay',  'Population']\n",
    "    ),\n",
    "    style_function = lambda feature: {\n",
    "        'fillColor': get_color1(feature),\n",
    "        'color': get_color1(feature),\n",
    "        \n",
    "\n",
    "    }, show = False\n",
    ")\n",
    "    \n",
    ")\n",
    "\n",
    "\n",
    "\n",
    "\n",
    "\n",
    "fgp = folium.FeatureGroup(name=\"Streets\")\n",
    "\n",
    "fgp.add_child(\n",
    "\n",
    "folium.GeoJson(\n",
    "    ic_gdf,\n",
    "    name = 'Traffic Congestion',\n",
    "    tooltip=folium.features.GeoJsonTooltip(\n",
    "        fields=['name', 'other_tags'],\n",
    "        aliases=['Street Name', 'Description']\n",
    "    ),\n",
    "    style_function = lambda feature: {\n",
    "        'fillColor': get_color(feature),\n",
    "        'color': get_color(feature),\n",
    "        'weight': 2,\n",
    "\n",
    "    }\n",
    ")\n",
    "    \n",
    ")\n",
    "\n",
    "\n",
    "\n",
    "fgs = folium.FeatureGroup(name=\"Points\",show = False)\n",
    "\n",
    "for index, row in ic_points.iterrows():\n",
    "#     print(row['name'])\n",
    "    iframe = folium.IFrame(html= str(row['name']), width=200,height=100)\n",
    "    fgs.add_child(folium.CircleMarker(location=[row['geometry'].y,row['geometry'].x], \n",
    "    radius = 2, popup=folium.Popup(iframe),\n",
    "    fill_color='white',  fill_opacity=1,))\n",
    "\n",
    "folium.LatLngPopup().add_to(m)\n",
    "\n",
    "style_one = lambda x: {'fillColor': '#ffdc30'}\n",
    "\n",
    "\n",
    "\n",
    "m.add_child(fgb)\n",
    "m.add_child(fgs,)\n",
    "m.add_child(fgp)\n",
    "\n",
    "geojson_obj = folium.GeoJson(ic_points, style_function=None,name = 'Markers',show = False).add_to(m)\n",
    "\n",
    "statesearch = Search(layer=geojson_obj,\n",
    "                     geom_type='Point',\n",
    "                     placeholder=\"Source\",\n",
    "                     collapsed=False,\n",
    "                     search_label='name',\n",
    "                     search_zoom=14,\n",
    "                     position='topleft'\n",
    "                    ).add_to(m)\n",
    "\n",
    "statesearch1 = Search(layer=geojson_obj,\n",
    "                      geom_type='Point',\n",
    "                      placeholder=\"Destination\",\n",
    "                      collapsed=False,\n",
    "                      search_label='name',\n",
    "                      search_zoom=14,\n",
    "                      position='topright'\n",
    "                     ).add_to(m)\n",
    "\n",
    "\n",
    "m.add_child(folium.LayerControl())\n",
    "m.save(\"Map_search.html\")"
   ]
  },
  {
   "cell_type": "code",
   "execution_count": null,
   "metadata": {},
   "outputs": [],
   "source": []
  }
 ],
 "metadata": {
  "kernelspec": {
   "display_name": "Python 3",
   "language": "python",
   "name": "python3"
  },
  "language_info": {
   "codemirror_mode": {
    "name": "ipython",
    "version": 3
   },
   "file_extension": ".py",
   "mimetype": "text/x-python",
   "name": "python",
   "nbconvert_exporter": "python",
   "pygments_lexer": "ipython3",
   "version": "3.6.6"
  }
 },
 "nbformat": 4,
 "nbformat_minor": 2
}
